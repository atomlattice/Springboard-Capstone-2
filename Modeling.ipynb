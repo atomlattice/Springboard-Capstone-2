{
 "cells": [
  {
   "cell_type": "code",
   "execution_count": 1,
   "id": "f017ca20",
   "metadata": {},
   "outputs": [],
   "source": [
    "import pandas as pd\n",
    "import numpy as np\n",
    "import matplotlib.pyplot as plt\n",
    "import sklearn\n",
    "\n",
    "from sklearn import model_selection\n",
    "from sklearn.model_selection import train_test_split\n",
    "from sklearn.model_selection import RandomizedSearchCV\n",
    "from sklearn.model_selection import GridSearchCV\n",
    "\n",
    "from sklearn.metrics import r2_score, mean_squared_error, mean_absolute_error\n",
    "\n",
    "from sklearn.linear_model import LinearRegression\n",
    "from sklearn import neighbors\n",
    "from sklearn.neighbors import KNeighborsRegressor\n",
    "from sklearn.tree import DecisionTreeRegressor\n",
    "from sklearn.ensemble import RandomForestRegressor\n",
    "from sklearn.ensemble import GradientBoostingRegressor"
   ]
  },
  {
   "cell_type": "markdown",
   "id": "9c52ac2b",
   "metadata": {},
   "source": [
    "Put this data into a variable"
   ]
  },
  {
   "cell_type": "code",
   "execution_count": 2,
   "id": "f5e75fc5",
   "metadata": {
    "scrolled": false
   },
   "outputs": [
    {
     "data": {
      "text/html": [
       "<div>\n",
       "<style scoped>\n",
       "    .dataframe tbody tr th:only-of-type {\n",
       "        vertical-align: middle;\n",
       "    }\n",
       "\n",
       "    .dataframe tbody tr th {\n",
       "        vertical-align: top;\n",
       "    }\n",
       "\n",
       "    .dataframe thead th {\n",
       "        text-align: right;\n",
       "    }\n",
       "</style>\n",
       "<table border=\"1\" class=\"dataframe\">\n",
       "  <thead>\n",
       "    <tr style=\"text-align: right;\">\n",
       "      <th></th>\n",
       "      <th>0</th>\n",
       "      <th>1</th>\n",
       "      <th>2</th>\n",
       "      <th>3</th>\n",
       "      <th>4</th>\n",
       "    </tr>\n",
       "  </thead>\n",
       "  <tbody>\n",
       "    <tr>\n",
       "      <th>Country</th>\n",
       "      <td>Afghanistan</td>\n",
       "      <td>Afghanistan</td>\n",
       "      <td>Afghanistan</td>\n",
       "      <td>Afghanistan</td>\n",
       "      <td>Afghanistan</td>\n",
       "    </tr>\n",
       "    <tr>\n",
       "      <th>Year</th>\n",
       "      <td>2015</td>\n",
       "      <td>2014</td>\n",
       "      <td>2013</td>\n",
       "      <td>2012</td>\n",
       "      <td>2011</td>\n",
       "    </tr>\n",
       "    <tr>\n",
       "      <th>Status</th>\n",
       "      <td>Developing</td>\n",
       "      <td>Developing</td>\n",
       "      <td>Developing</td>\n",
       "      <td>Developing</td>\n",
       "      <td>Developing</td>\n",
       "    </tr>\n",
       "    <tr>\n",
       "      <th>Life_Expectancy</th>\n",
       "      <td>65.0</td>\n",
       "      <td>59.9</td>\n",
       "      <td>59.9</td>\n",
       "      <td>59.5</td>\n",
       "      <td>59.2</td>\n",
       "    </tr>\n",
       "    <tr>\n",
       "      <th>Adult Mortality</th>\n",
       "      <td>263.0</td>\n",
       "      <td>271.0</td>\n",
       "      <td>268.0</td>\n",
       "      <td>272.0</td>\n",
       "      <td>275.0</td>\n",
       "    </tr>\n",
       "    <tr>\n",
       "      <th>infant deaths</th>\n",
       "      <td>62</td>\n",
       "      <td>64</td>\n",
       "      <td>66</td>\n",
       "      <td>69</td>\n",
       "      <td>71</td>\n",
       "    </tr>\n",
       "    <tr>\n",
       "      <th>Alcohol</th>\n",
       "      <td>0.01</td>\n",
       "      <td>0.01</td>\n",
       "      <td>0.01</td>\n",
       "      <td>0.01</td>\n",
       "      <td>0.01</td>\n",
       "    </tr>\n",
       "    <tr>\n",
       "      <th>Percentage_Expenditure</th>\n",
       "      <td>71.279624</td>\n",
       "      <td>73.523582</td>\n",
       "      <td>73.219243</td>\n",
       "      <td>78.184215</td>\n",
       "      <td>7.097109</td>\n",
       "    </tr>\n",
       "    <tr>\n",
       "      <th>Hepatitis B</th>\n",
       "      <td>65.0</td>\n",
       "      <td>62.0</td>\n",
       "      <td>64.0</td>\n",
       "      <td>67.0</td>\n",
       "      <td>68.0</td>\n",
       "    </tr>\n",
       "    <tr>\n",
       "      <th>Measles</th>\n",
       "      <td>1154</td>\n",
       "      <td>492</td>\n",
       "      <td>430</td>\n",
       "      <td>2787</td>\n",
       "      <td>3013</td>\n",
       "    </tr>\n",
       "    <tr>\n",
       "      <th>BMI</th>\n",
       "      <td>19.1</td>\n",
       "      <td>18.6</td>\n",
       "      <td>18.1</td>\n",
       "      <td>17.6</td>\n",
       "      <td>17.2</td>\n",
       "    </tr>\n",
       "    <tr>\n",
       "      <th>under-five deaths</th>\n",
       "      <td>83</td>\n",
       "      <td>86</td>\n",
       "      <td>89</td>\n",
       "      <td>93</td>\n",
       "      <td>97</td>\n",
       "    </tr>\n",
       "    <tr>\n",
       "      <th>Polio</th>\n",
       "      <td>6.0</td>\n",
       "      <td>58.0</td>\n",
       "      <td>62.0</td>\n",
       "      <td>67.0</td>\n",
       "      <td>68.0</td>\n",
       "    </tr>\n",
       "    <tr>\n",
       "      <th>Total_Expenditure</th>\n",
       "      <td>8.16</td>\n",
       "      <td>8.18</td>\n",
       "      <td>8.13</td>\n",
       "      <td>8.52</td>\n",
       "      <td>7.87</td>\n",
       "    </tr>\n",
       "    <tr>\n",
       "      <th>Diphtheria</th>\n",
       "      <td>65.0</td>\n",
       "      <td>62.0</td>\n",
       "      <td>64.0</td>\n",
       "      <td>67.0</td>\n",
       "      <td>68.0</td>\n",
       "    </tr>\n",
       "    <tr>\n",
       "      <th>HIV/AIDS</th>\n",
       "      <td>0.1</td>\n",
       "      <td>0.1</td>\n",
       "      <td>0.1</td>\n",
       "      <td>0.1</td>\n",
       "      <td>0.1</td>\n",
       "    </tr>\n",
       "    <tr>\n",
       "      <th>GDP</th>\n",
       "      <td>584.25921</td>\n",
       "      <td>612.696514</td>\n",
       "      <td>631.744976</td>\n",
       "      <td>669.959</td>\n",
       "      <td>63.537231</td>\n",
       "    </tr>\n",
       "    <tr>\n",
       "      <th>Population</th>\n",
       "      <td>33736494.0</td>\n",
       "      <td>327582.0</td>\n",
       "      <td>31731688.0</td>\n",
       "      <td>3696958.0</td>\n",
       "      <td>2978599.0</td>\n",
       "    </tr>\n",
       "    <tr>\n",
       "      <th>thinness  1-19 years</th>\n",
       "      <td>17.2</td>\n",
       "      <td>17.5</td>\n",
       "      <td>17.7</td>\n",
       "      <td>17.9</td>\n",
       "      <td>18.2</td>\n",
       "    </tr>\n",
       "    <tr>\n",
       "      <th>thinness 5-9 years</th>\n",
       "      <td>17.3</td>\n",
       "      <td>17.5</td>\n",
       "      <td>17.7</td>\n",
       "      <td>18.0</td>\n",
       "      <td>18.2</td>\n",
       "    </tr>\n",
       "    <tr>\n",
       "      <th>Income_Composition_Resources</th>\n",
       "      <td>0.479</td>\n",
       "      <td>0.476</td>\n",
       "      <td>0.47</td>\n",
       "      <td>0.463</td>\n",
       "      <td>0.454</td>\n",
       "    </tr>\n",
       "    <tr>\n",
       "      <th>Schooling</th>\n",
       "      <td>10.1</td>\n",
       "      <td>10.0</td>\n",
       "      <td>9.9</td>\n",
       "      <td>9.8</td>\n",
       "      <td>9.5</td>\n",
       "    </tr>\n",
       "  </tbody>\n",
       "</table>\n",
       "</div>"
      ],
      "text/plain": [
       "                                        0            1            2  \\\n",
       "Country                       Afghanistan  Afghanistan  Afghanistan   \n",
       "Year                                 2015         2014         2013   \n",
       "Status                         Developing   Developing   Developing   \n",
       "Life_Expectancy                      65.0         59.9         59.9   \n",
       "Adult Mortality                     263.0        271.0        268.0   \n",
       "infant deaths                          62           64           66   \n",
       "Alcohol                              0.01         0.01         0.01   \n",
       "Percentage_Expenditure          71.279624    73.523582    73.219243   \n",
       "Hepatitis B                          65.0         62.0         64.0   \n",
       "Measles                              1154          492          430   \n",
       "BMI                                  19.1         18.6         18.1   \n",
       "under-five deaths                      83           86           89   \n",
       "Polio                                 6.0         58.0         62.0   \n",
       "Total_Expenditure                    8.16         8.18         8.13   \n",
       "Diphtheria                           65.0         62.0         64.0   \n",
       "HIV/AIDS                              0.1          0.1          0.1   \n",
       "GDP                             584.25921   612.696514   631.744976   \n",
       "Population                     33736494.0     327582.0   31731688.0   \n",
       "thinness  1-19 years                 17.2         17.5         17.7   \n",
       "thinness 5-9 years                   17.3         17.5         17.7   \n",
       "Income_Composition_Resources        0.479        0.476         0.47   \n",
       "Schooling                            10.1         10.0          9.9   \n",
       "\n",
       "                                        3            4  \n",
       "Country                       Afghanistan  Afghanistan  \n",
       "Year                                 2012         2011  \n",
       "Status                         Developing   Developing  \n",
       "Life_Expectancy                      59.5         59.2  \n",
       "Adult Mortality                     272.0        275.0  \n",
       "infant deaths                          69           71  \n",
       "Alcohol                              0.01         0.01  \n",
       "Percentage_Expenditure          78.184215     7.097109  \n",
       "Hepatitis B                          67.0         68.0  \n",
       "Measles                              2787         3013  \n",
       "BMI                                  17.6         17.2  \n",
       "under-five deaths                      93           97  \n",
       "Polio                                67.0         68.0  \n",
       "Total_Expenditure                    8.52         7.87  \n",
       "Diphtheria                           67.0         68.0  \n",
       "HIV/AIDS                              0.1          0.1  \n",
       "GDP                               669.959    63.537231  \n",
       "Population                      3696958.0    2978599.0  \n",
       "thinness  1-19 years                 17.9         18.2  \n",
       "thinness 5-9 years                   18.0         18.2  \n",
       "Income_Composition_Resources        0.463        0.454  \n",
       "Schooling                             9.8          9.5  "
      ]
     },
     "execution_count": 2,
     "metadata": {},
     "output_type": "execute_result"
    }
   ],
   "source": [
    "wrangled_WHO_data = pd.read_csv(r'C:\\Users\\moder\\Documents\\Springboard\\PROJECTS ASSIGNMENTS files and instructions\\Capstones\\Capstone 2\\wrangled_WHO_data.csv')\n",
    "\n",
    "wrangled_WHO_data.head().T"
   ]
  },
  {
   "cell_type": "code",
   "execution_count": 3,
   "id": "73d3c5b8",
   "metadata": {
    "scrolled": true
   },
   "outputs": [
    {
     "name": "stdout",
     "output_type": "stream",
     "text": [
      "<class 'pandas.core.frame.DataFrame'>\n",
      "RangeIndex: 2938 entries, 0 to 2937\n",
      "Data columns (total 22 columns):\n",
      " #   Column                        Non-Null Count  Dtype  \n",
      "---  ------                        --------------  -----  \n",
      " 0   Country                       2938 non-null   object \n",
      " 1   Year                          2938 non-null   int64  \n",
      " 2   Status                        2938 non-null   object \n",
      " 3   Life_Expectancy               2938 non-null   float64\n",
      " 4   Adult Mortality               2938 non-null   float64\n",
      " 5   infant deaths                 2938 non-null   int64  \n",
      " 6   Alcohol                       2938 non-null   float64\n",
      " 7   Percentage_Expenditure        2938 non-null   float64\n",
      " 8   Hepatitis B                   2938 non-null   float64\n",
      " 9   Measles                       2938 non-null   int64  \n",
      " 10  BMI                           2938 non-null   float64\n",
      " 11  under-five deaths             2938 non-null   int64  \n",
      " 12  Polio                         2938 non-null   float64\n",
      " 13  Total_Expenditure             2938 non-null   float64\n",
      " 14  Diphtheria                    2938 non-null   float64\n",
      " 15  HIV/AIDS                      2938 non-null   float64\n",
      " 16  GDP                           2938 non-null   float64\n",
      " 17  Population                    2938 non-null   float64\n",
      " 18  thinness  1-19 years          2938 non-null   float64\n",
      " 19  thinness 5-9 years            2938 non-null   float64\n",
      " 20  Income_Composition_Resources  2938 non-null   float64\n",
      " 21  Schooling                     2938 non-null   float64\n",
      "dtypes: float64(16), int64(4), object(2)\n",
      "memory usage: 505.1+ KB\n"
     ]
    }
   ],
   "source": [
    "#reminder - data types\n",
    "wrangled_WHO_data.info()"
   ]
  },
  {
   "cell_type": "code",
   "execution_count": 4,
   "id": "2d9a5944",
   "metadata": {},
   "outputs": [
    {
     "name": "stdout",
     "output_type": "stream",
     "text": [
      "<class 'pandas.core.frame.DataFrame'>\n",
      "RangeIndex: 2938 entries, 0 to 2937\n",
      "Data columns (total 22 columns):\n",
      " #   Column                        Non-Null Count  Dtype  \n",
      "---  ------                        --------------  -----  \n",
      " 0   Country                       2938 non-null   object \n",
      " 1   Year                          2938 non-null   int64  \n",
      " 2   Status                        2938 non-null   object \n",
      " 3   Life_Expectancy               2938 non-null   float64\n",
      " 4   Adult Mortality               2938 non-null   float64\n",
      " 5   infant deaths                 2938 non-null   int64  \n",
      " 6   Alcohol                       2938 non-null   float64\n",
      " 7   Percentage_Expenditure        2938 non-null   float64\n",
      " 8   Hepatitis B                   2938 non-null   float64\n",
      " 9   Measles                       2938 non-null   int64  \n",
      " 10  BMI                           2938 non-null   float64\n",
      " 11  under-five deaths             2938 non-null   int64  \n",
      " 12  Polio                         2938 non-null   float64\n",
      " 13  Total_Expenditure             2938 non-null   float64\n",
      " 14  Diphtheria                    2938 non-null   float64\n",
      " 15  HIV/AIDS                      2938 non-null   float64\n",
      " 16  GDP                           2938 non-null   float64\n",
      " 17  Population                    2938 non-null   float64\n",
      " 18  thinness  1-19 years          2938 non-null   float64\n",
      " 19  thinness 5-9 years            2938 non-null   float64\n",
      " 20  Income_Composition_Resources  2938 non-null   float64\n",
      " 21  Schooling                     2938 non-null   float64\n",
      "dtypes: float64(16), int64(4), object(2)\n",
      "memory usage: 505.1+ KB\n"
     ]
    }
   ],
   "source": [
    "wrangled_WHO_data.info()"
   ]
  },
  {
   "cell_type": "markdown",
   "id": "4db537c0",
   "metadata": {},
   "source": [
    "# Feature Selection"
   ]
  },
  {
   "cell_type": "code",
   "execution_count": 5,
   "id": "15b31d62",
   "metadata": {
    "scrolled": true
   },
   "outputs": [
    {
     "name": "stdout",
     "output_type": "stream",
     "text": [
      "X:  <class 'pandas.core.frame.DataFrame'> (2938, 19)\n"
     ]
    }
   ],
   "source": [
    "X = wrangled_WHO_data.drop(['Life_Expectancy','Country','Year'], axis=1)\n",
    "\n",
    "print(\"X: \", type(X), X.shape)"
   ]
  },
  {
   "cell_type": "code",
   "execution_count": 6,
   "id": "5ae033a5",
   "metadata": {},
   "outputs": [
    {
     "data": {
      "text/html": [
       "<div>\n",
       "<style scoped>\n",
       "    .dataframe tbody tr th:only-of-type {\n",
       "        vertical-align: middle;\n",
       "    }\n",
       "\n",
       "    .dataframe tbody tr th {\n",
       "        vertical-align: top;\n",
       "    }\n",
       "\n",
       "    .dataframe thead th {\n",
       "        text-align: right;\n",
       "    }\n",
       "</style>\n",
       "<table border=\"1\" class=\"dataframe\">\n",
       "  <thead>\n",
       "    <tr style=\"text-align: right;\">\n",
       "      <th></th>\n",
       "      <th>Status</th>\n",
       "      <th>Adult Mortality</th>\n",
       "      <th>infant deaths</th>\n",
       "      <th>Alcohol</th>\n",
       "      <th>Percentage_Expenditure</th>\n",
       "      <th>Hepatitis B</th>\n",
       "      <th>Measles</th>\n",
       "      <th>BMI</th>\n",
       "      <th>under-five deaths</th>\n",
       "      <th>Polio</th>\n",
       "      <th>Total_Expenditure</th>\n",
       "      <th>Diphtheria</th>\n",
       "      <th>HIV/AIDS</th>\n",
       "      <th>GDP</th>\n",
       "      <th>Population</th>\n",
       "      <th>thinness  1-19 years</th>\n",
       "      <th>thinness 5-9 years</th>\n",
       "      <th>Income_Composition_Resources</th>\n",
       "      <th>Schooling</th>\n",
       "    </tr>\n",
       "  </thead>\n",
       "  <tbody>\n",
       "    <tr>\n",
       "      <th>0</th>\n",
       "      <td>Developing</td>\n",
       "      <td>263.0</td>\n",
       "      <td>62</td>\n",
       "      <td>0.01</td>\n",
       "      <td>71.279624</td>\n",
       "      <td>65.0</td>\n",
       "      <td>1154</td>\n",
       "      <td>19.1</td>\n",
       "      <td>83</td>\n",
       "      <td>6.0</td>\n",
       "      <td>8.16</td>\n",
       "      <td>65.0</td>\n",
       "      <td>0.1</td>\n",
       "      <td>584.259210</td>\n",
       "      <td>33736494.0</td>\n",
       "      <td>17.2</td>\n",
       "      <td>17.3</td>\n",
       "      <td>0.479</td>\n",
       "      <td>10.1</td>\n",
       "    </tr>\n",
       "    <tr>\n",
       "      <th>1</th>\n",
       "      <td>Developing</td>\n",
       "      <td>271.0</td>\n",
       "      <td>64</td>\n",
       "      <td>0.01</td>\n",
       "      <td>73.523582</td>\n",
       "      <td>62.0</td>\n",
       "      <td>492</td>\n",
       "      <td>18.6</td>\n",
       "      <td>86</td>\n",
       "      <td>58.0</td>\n",
       "      <td>8.18</td>\n",
       "      <td>62.0</td>\n",
       "      <td>0.1</td>\n",
       "      <td>612.696514</td>\n",
       "      <td>327582.0</td>\n",
       "      <td>17.5</td>\n",
       "      <td>17.5</td>\n",
       "      <td>0.476</td>\n",
       "      <td>10.0</td>\n",
       "    </tr>\n",
       "    <tr>\n",
       "      <th>2</th>\n",
       "      <td>Developing</td>\n",
       "      <td>268.0</td>\n",
       "      <td>66</td>\n",
       "      <td>0.01</td>\n",
       "      <td>73.219243</td>\n",
       "      <td>64.0</td>\n",
       "      <td>430</td>\n",
       "      <td>18.1</td>\n",
       "      <td>89</td>\n",
       "      <td>62.0</td>\n",
       "      <td>8.13</td>\n",
       "      <td>64.0</td>\n",
       "      <td>0.1</td>\n",
       "      <td>631.744976</td>\n",
       "      <td>31731688.0</td>\n",
       "      <td>17.7</td>\n",
       "      <td>17.7</td>\n",
       "      <td>0.470</td>\n",
       "      <td>9.9</td>\n",
       "    </tr>\n",
       "    <tr>\n",
       "      <th>3</th>\n",
       "      <td>Developing</td>\n",
       "      <td>272.0</td>\n",
       "      <td>69</td>\n",
       "      <td>0.01</td>\n",
       "      <td>78.184215</td>\n",
       "      <td>67.0</td>\n",
       "      <td>2787</td>\n",
       "      <td>17.6</td>\n",
       "      <td>93</td>\n",
       "      <td>67.0</td>\n",
       "      <td>8.52</td>\n",
       "      <td>67.0</td>\n",
       "      <td>0.1</td>\n",
       "      <td>669.959000</td>\n",
       "      <td>3696958.0</td>\n",
       "      <td>17.9</td>\n",
       "      <td>18.0</td>\n",
       "      <td>0.463</td>\n",
       "      <td>9.8</td>\n",
       "    </tr>\n",
       "    <tr>\n",
       "      <th>4</th>\n",
       "      <td>Developing</td>\n",
       "      <td>275.0</td>\n",
       "      <td>71</td>\n",
       "      <td>0.01</td>\n",
       "      <td>7.097109</td>\n",
       "      <td>68.0</td>\n",
       "      <td>3013</td>\n",
       "      <td>17.2</td>\n",
       "      <td>97</td>\n",
       "      <td>68.0</td>\n",
       "      <td>7.87</td>\n",
       "      <td>68.0</td>\n",
       "      <td>0.1</td>\n",
       "      <td>63.537231</td>\n",
       "      <td>2978599.0</td>\n",
       "      <td>18.2</td>\n",
       "      <td>18.2</td>\n",
       "      <td>0.454</td>\n",
       "      <td>9.5</td>\n",
       "    </tr>\n",
       "    <tr>\n",
       "      <th>...</th>\n",
       "      <td>...</td>\n",
       "      <td>...</td>\n",
       "      <td>...</td>\n",
       "      <td>...</td>\n",
       "      <td>...</td>\n",
       "      <td>...</td>\n",
       "      <td>...</td>\n",
       "      <td>...</td>\n",
       "      <td>...</td>\n",
       "      <td>...</td>\n",
       "      <td>...</td>\n",
       "      <td>...</td>\n",
       "      <td>...</td>\n",
       "      <td>...</td>\n",
       "      <td>...</td>\n",
       "      <td>...</td>\n",
       "      <td>...</td>\n",
       "      <td>...</td>\n",
       "      <td>...</td>\n",
       "    </tr>\n",
       "    <tr>\n",
       "      <th>2933</th>\n",
       "      <td>Developing</td>\n",
       "      <td>723.0</td>\n",
       "      <td>27</td>\n",
       "      <td>4.36</td>\n",
       "      <td>8.717409</td>\n",
       "      <td>68.0</td>\n",
       "      <td>31</td>\n",
       "      <td>27.1</td>\n",
       "      <td>42</td>\n",
       "      <td>67.0</td>\n",
       "      <td>7.13</td>\n",
       "      <td>65.0</td>\n",
       "      <td>33.6</td>\n",
       "      <td>454.366654</td>\n",
       "      <td>12777511.0</td>\n",
       "      <td>9.4</td>\n",
       "      <td>9.4</td>\n",
       "      <td>0.407</td>\n",
       "      <td>9.2</td>\n",
       "    </tr>\n",
       "    <tr>\n",
       "      <th>2934</th>\n",
       "      <td>Developing</td>\n",
       "      <td>715.0</td>\n",
       "      <td>26</td>\n",
       "      <td>4.06</td>\n",
       "      <td>8.717409</td>\n",
       "      <td>7.0</td>\n",
       "      <td>998</td>\n",
       "      <td>26.7</td>\n",
       "      <td>41</td>\n",
       "      <td>7.0</td>\n",
       "      <td>6.52</td>\n",
       "      <td>68.0</td>\n",
       "      <td>36.7</td>\n",
       "      <td>453.351155</td>\n",
       "      <td>12633897.0</td>\n",
       "      <td>9.8</td>\n",
       "      <td>9.9</td>\n",
       "      <td>0.418</td>\n",
       "      <td>9.5</td>\n",
       "    </tr>\n",
       "    <tr>\n",
       "      <th>2935</th>\n",
       "      <td>Developing</td>\n",
       "      <td>73.0</td>\n",
       "      <td>25</td>\n",
       "      <td>4.43</td>\n",
       "      <td>8.717409</td>\n",
       "      <td>73.0</td>\n",
       "      <td>304</td>\n",
       "      <td>26.3</td>\n",
       "      <td>40</td>\n",
       "      <td>73.0</td>\n",
       "      <td>6.53</td>\n",
       "      <td>71.0</td>\n",
       "      <td>39.8</td>\n",
       "      <td>57.348340</td>\n",
       "      <td>125525.0</td>\n",
       "      <td>1.2</td>\n",
       "      <td>1.3</td>\n",
       "      <td>0.427</td>\n",
       "      <td>10.0</td>\n",
       "    </tr>\n",
       "    <tr>\n",
       "      <th>2936</th>\n",
       "      <td>Developing</td>\n",
       "      <td>686.0</td>\n",
       "      <td>25</td>\n",
       "      <td>1.72</td>\n",
       "      <td>8.717409</td>\n",
       "      <td>76.0</td>\n",
       "      <td>529</td>\n",
       "      <td>25.9</td>\n",
       "      <td>39</td>\n",
       "      <td>76.0</td>\n",
       "      <td>6.16</td>\n",
       "      <td>75.0</td>\n",
       "      <td>42.1</td>\n",
       "      <td>548.587312</td>\n",
       "      <td>12366165.0</td>\n",
       "      <td>1.6</td>\n",
       "      <td>1.7</td>\n",
       "      <td>0.427</td>\n",
       "      <td>9.8</td>\n",
       "    </tr>\n",
       "    <tr>\n",
       "      <th>2937</th>\n",
       "      <td>Developing</td>\n",
       "      <td>665.0</td>\n",
       "      <td>24</td>\n",
       "      <td>1.68</td>\n",
       "      <td>8.717409</td>\n",
       "      <td>79.0</td>\n",
       "      <td>1483</td>\n",
       "      <td>25.5</td>\n",
       "      <td>39</td>\n",
       "      <td>78.0</td>\n",
       "      <td>7.10</td>\n",
       "      <td>78.0</td>\n",
       "      <td>43.5</td>\n",
       "      <td>547.358878</td>\n",
       "      <td>12222251.0</td>\n",
       "      <td>11.0</td>\n",
       "      <td>11.2</td>\n",
       "      <td>0.434</td>\n",
       "      <td>9.8</td>\n",
       "    </tr>\n",
       "  </tbody>\n",
       "</table>\n",
       "<p>2938 rows × 19 columns</p>\n",
       "</div>"
      ],
      "text/plain": [
       "          Status  Adult Mortality  infant deaths  Alcohol  \\\n",
       "0     Developing            263.0             62     0.01   \n",
       "1     Developing            271.0             64     0.01   \n",
       "2     Developing            268.0             66     0.01   \n",
       "3     Developing            272.0             69     0.01   \n",
       "4     Developing            275.0             71     0.01   \n",
       "...          ...              ...            ...      ...   \n",
       "2933  Developing            723.0             27     4.36   \n",
       "2934  Developing            715.0             26     4.06   \n",
       "2935  Developing             73.0             25     4.43   \n",
       "2936  Developing            686.0             25     1.72   \n",
       "2937  Developing            665.0             24     1.68   \n",
       "\n",
       "      Percentage_Expenditure  Hepatitis B  Measles   BMI  under-five deaths  \\\n",
       "0                  71.279624         65.0     1154  19.1                 83   \n",
       "1                  73.523582         62.0      492  18.6                 86   \n",
       "2                  73.219243         64.0      430  18.1                 89   \n",
       "3                  78.184215         67.0     2787  17.6                 93   \n",
       "4                   7.097109         68.0     3013  17.2                 97   \n",
       "...                      ...          ...      ...   ...                ...   \n",
       "2933                8.717409         68.0       31  27.1                 42   \n",
       "2934                8.717409          7.0      998  26.7                 41   \n",
       "2935                8.717409         73.0      304  26.3                 40   \n",
       "2936                8.717409         76.0      529  25.9                 39   \n",
       "2937                8.717409         79.0     1483  25.5                 39   \n",
       "\n",
       "      Polio  Total_Expenditure  Diphtheria  HIV/AIDS         GDP  Population  \\\n",
       "0       6.0               8.16        65.0       0.1  584.259210  33736494.0   \n",
       "1      58.0               8.18        62.0       0.1  612.696514    327582.0   \n",
       "2      62.0               8.13        64.0       0.1  631.744976  31731688.0   \n",
       "3      67.0               8.52        67.0       0.1  669.959000   3696958.0   \n",
       "4      68.0               7.87        68.0       0.1   63.537231   2978599.0   \n",
       "...     ...                ...         ...       ...         ...         ...   \n",
       "2933   67.0               7.13        65.0      33.6  454.366654  12777511.0   \n",
       "2934    7.0               6.52        68.0      36.7  453.351155  12633897.0   \n",
       "2935   73.0               6.53        71.0      39.8   57.348340    125525.0   \n",
       "2936   76.0               6.16        75.0      42.1  548.587312  12366165.0   \n",
       "2937   78.0               7.10        78.0      43.5  547.358878  12222251.0   \n",
       "\n",
       "      thinness  1-19 years  thinness 5-9 years  Income_Composition_Resources  \\\n",
       "0                     17.2                17.3                         0.479   \n",
       "1                     17.5                17.5                         0.476   \n",
       "2                     17.7                17.7                         0.470   \n",
       "3                     17.9                18.0                         0.463   \n",
       "4                     18.2                18.2                         0.454   \n",
       "...                    ...                 ...                           ...   \n",
       "2933                   9.4                 9.4                         0.407   \n",
       "2934                   9.8                 9.9                         0.418   \n",
       "2935                   1.2                 1.3                         0.427   \n",
       "2936                   1.6                 1.7                         0.427   \n",
       "2937                  11.0                11.2                         0.434   \n",
       "\n",
       "      Schooling  \n",
       "0          10.1  \n",
       "1          10.0  \n",
       "2           9.9  \n",
       "3           9.8  \n",
       "4           9.5  \n",
       "...         ...  \n",
       "2933        9.2  \n",
       "2934        9.5  \n",
       "2935       10.0  \n",
       "2936        9.8  \n",
       "2937        9.8  \n",
       "\n",
       "[2938 rows x 19 columns]"
      ]
     },
     "execution_count": 6,
     "metadata": {},
     "output_type": "execute_result"
    }
   ],
   "source": [
    "X"
   ]
  },
  {
   "cell_type": "code",
   "execution_count": 7,
   "id": "853999d5",
   "metadata": {},
   "outputs": [],
   "source": [
    "X = pd.get_dummies(X)"
   ]
  },
  {
   "cell_type": "code",
   "execution_count": 8,
   "id": "439889e3",
   "metadata": {},
   "outputs": [
    {
     "data": {
      "text/html": [
       "<div>\n",
       "<style scoped>\n",
       "    .dataframe tbody tr th:only-of-type {\n",
       "        vertical-align: middle;\n",
       "    }\n",
       "\n",
       "    .dataframe tbody tr th {\n",
       "        vertical-align: top;\n",
       "    }\n",
       "\n",
       "    .dataframe thead th {\n",
       "        text-align: right;\n",
       "    }\n",
       "</style>\n",
       "<table border=\"1\" class=\"dataframe\">\n",
       "  <thead>\n",
       "    <tr style=\"text-align: right;\">\n",
       "      <th></th>\n",
       "      <th>Adult Mortality</th>\n",
       "      <th>infant deaths</th>\n",
       "      <th>Alcohol</th>\n",
       "      <th>Percentage_Expenditure</th>\n",
       "      <th>Hepatitis B</th>\n",
       "      <th>Measles</th>\n",
       "      <th>BMI</th>\n",
       "      <th>under-five deaths</th>\n",
       "      <th>Polio</th>\n",
       "      <th>Total_Expenditure</th>\n",
       "      <th>Diphtheria</th>\n",
       "      <th>HIV/AIDS</th>\n",
       "      <th>GDP</th>\n",
       "      <th>Population</th>\n",
       "      <th>thinness  1-19 years</th>\n",
       "      <th>thinness 5-9 years</th>\n",
       "      <th>Income_Composition_Resources</th>\n",
       "      <th>Schooling</th>\n",
       "      <th>Status_Developed</th>\n",
       "      <th>Status_Developing</th>\n",
       "    </tr>\n",
       "  </thead>\n",
       "  <tbody>\n",
       "    <tr>\n",
       "      <th>0</th>\n",
       "      <td>263.0</td>\n",
       "      <td>62</td>\n",
       "      <td>0.01</td>\n",
       "      <td>71.279624</td>\n",
       "      <td>65.0</td>\n",
       "      <td>1154</td>\n",
       "      <td>19.1</td>\n",
       "      <td>83</td>\n",
       "      <td>6.0</td>\n",
       "      <td>8.16</td>\n",
       "      <td>65.0</td>\n",
       "      <td>0.1</td>\n",
       "      <td>584.259210</td>\n",
       "      <td>33736494.0</td>\n",
       "      <td>17.2</td>\n",
       "      <td>17.3</td>\n",
       "      <td>0.479</td>\n",
       "      <td>10.1</td>\n",
       "      <td>0</td>\n",
       "      <td>1</td>\n",
       "    </tr>\n",
       "    <tr>\n",
       "      <th>1</th>\n",
       "      <td>271.0</td>\n",
       "      <td>64</td>\n",
       "      <td>0.01</td>\n",
       "      <td>73.523582</td>\n",
       "      <td>62.0</td>\n",
       "      <td>492</td>\n",
       "      <td>18.6</td>\n",
       "      <td>86</td>\n",
       "      <td>58.0</td>\n",
       "      <td>8.18</td>\n",
       "      <td>62.0</td>\n",
       "      <td>0.1</td>\n",
       "      <td>612.696514</td>\n",
       "      <td>327582.0</td>\n",
       "      <td>17.5</td>\n",
       "      <td>17.5</td>\n",
       "      <td>0.476</td>\n",
       "      <td>10.0</td>\n",
       "      <td>0</td>\n",
       "      <td>1</td>\n",
       "    </tr>\n",
       "    <tr>\n",
       "      <th>2</th>\n",
       "      <td>268.0</td>\n",
       "      <td>66</td>\n",
       "      <td>0.01</td>\n",
       "      <td>73.219243</td>\n",
       "      <td>64.0</td>\n",
       "      <td>430</td>\n",
       "      <td>18.1</td>\n",
       "      <td>89</td>\n",
       "      <td>62.0</td>\n",
       "      <td>8.13</td>\n",
       "      <td>64.0</td>\n",
       "      <td>0.1</td>\n",
       "      <td>631.744976</td>\n",
       "      <td>31731688.0</td>\n",
       "      <td>17.7</td>\n",
       "      <td>17.7</td>\n",
       "      <td>0.470</td>\n",
       "      <td>9.9</td>\n",
       "      <td>0</td>\n",
       "      <td>1</td>\n",
       "    </tr>\n",
       "    <tr>\n",
       "      <th>3</th>\n",
       "      <td>272.0</td>\n",
       "      <td>69</td>\n",
       "      <td>0.01</td>\n",
       "      <td>78.184215</td>\n",
       "      <td>67.0</td>\n",
       "      <td>2787</td>\n",
       "      <td>17.6</td>\n",
       "      <td>93</td>\n",
       "      <td>67.0</td>\n",
       "      <td>8.52</td>\n",
       "      <td>67.0</td>\n",
       "      <td>0.1</td>\n",
       "      <td>669.959000</td>\n",
       "      <td>3696958.0</td>\n",
       "      <td>17.9</td>\n",
       "      <td>18.0</td>\n",
       "      <td>0.463</td>\n",
       "      <td>9.8</td>\n",
       "      <td>0</td>\n",
       "      <td>1</td>\n",
       "    </tr>\n",
       "    <tr>\n",
       "      <th>4</th>\n",
       "      <td>275.0</td>\n",
       "      <td>71</td>\n",
       "      <td>0.01</td>\n",
       "      <td>7.097109</td>\n",
       "      <td>68.0</td>\n",
       "      <td>3013</td>\n",
       "      <td>17.2</td>\n",
       "      <td>97</td>\n",
       "      <td>68.0</td>\n",
       "      <td>7.87</td>\n",
       "      <td>68.0</td>\n",
       "      <td>0.1</td>\n",
       "      <td>63.537231</td>\n",
       "      <td>2978599.0</td>\n",
       "      <td>18.2</td>\n",
       "      <td>18.2</td>\n",
       "      <td>0.454</td>\n",
       "      <td>9.5</td>\n",
       "      <td>0</td>\n",
       "      <td>1</td>\n",
       "    </tr>\n",
       "    <tr>\n",
       "      <th>...</th>\n",
       "      <td>...</td>\n",
       "      <td>...</td>\n",
       "      <td>...</td>\n",
       "      <td>...</td>\n",
       "      <td>...</td>\n",
       "      <td>...</td>\n",
       "      <td>...</td>\n",
       "      <td>...</td>\n",
       "      <td>...</td>\n",
       "      <td>...</td>\n",
       "      <td>...</td>\n",
       "      <td>...</td>\n",
       "      <td>...</td>\n",
       "      <td>...</td>\n",
       "      <td>...</td>\n",
       "      <td>...</td>\n",
       "      <td>...</td>\n",
       "      <td>...</td>\n",
       "      <td>...</td>\n",
       "      <td>...</td>\n",
       "    </tr>\n",
       "    <tr>\n",
       "      <th>2933</th>\n",
       "      <td>723.0</td>\n",
       "      <td>27</td>\n",
       "      <td>4.36</td>\n",
       "      <td>8.717409</td>\n",
       "      <td>68.0</td>\n",
       "      <td>31</td>\n",
       "      <td>27.1</td>\n",
       "      <td>42</td>\n",
       "      <td>67.0</td>\n",
       "      <td>7.13</td>\n",
       "      <td>65.0</td>\n",
       "      <td>33.6</td>\n",
       "      <td>454.366654</td>\n",
       "      <td>12777511.0</td>\n",
       "      <td>9.4</td>\n",
       "      <td>9.4</td>\n",
       "      <td>0.407</td>\n",
       "      <td>9.2</td>\n",
       "      <td>0</td>\n",
       "      <td>1</td>\n",
       "    </tr>\n",
       "    <tr>\n",
       "      <th>2934</th>\n",
       "      <td>715.0</td>\n",
       "      <td>26</td>\n",
       "      <td>4.06</td>\n",
       "      <td>8.717409</td>\n",
       "      <td>7.0</td>\n",
       "      <td>998</td>\n",
       "      <td>26.7</td>\n",
       "      <td>41</td>\n",
       "      <td>7.0</td>\n",
       "      <td>6.52</td>\n",
       "      <td>68.0</td>\n",
       "      <td>36.7</td>\n",
       "      <td>453.351155</td>\n",
       "      <td>12633897.0</td>\n",
       "      <td>9.8</td>\n",
       "      <td>9.9</td>\n",
       "      <td>0.418</td>\n",
       "      <td>9.5</td>\n",
       "      <td>0</td>\n",
       "      <td>1</td>\n",
       "    </tr>\n",
       "    <tr>\n",
       "      <th>2935</th>\n",
       "      <td>73.0</td>\n",
       "      <td>25</td>\n",
       "      <td>4.43</td>\n",
       "      <td>8.717409</td>\n",
       "      <td>73.0</td>\n",
       "      <td>304</td>\n",
       "      <td>26.3</td>\n",
       "      <td>40</td>\n",
       "      <td>73.0</td>\n",
       "      <td>6.53</td>\n",
       "      <td>71.0</td>\n",
       "      <td>39.8</td>\n",
       "      <td>57.348340</td>\n",
       "      <td>125525.0</td>\n",
       "      <td>1.2</td>\n",
       "      <td>1.3</td>\n",
       "      <td>0.427</td>\n",
       "      <td>10.0</td>\n",
       "      <td>0</td>\n",
       "      <td>1</td>\n",
       "    </tr>\n",
       "    <tr>\n",
       "      <th>2936</th>\n",
       "      <td>686.0</td>\n",
       "      <td>25</td>\n",
       "      <td>1.72</td>\n",
       "      <td>8.717409</td>\n",
       "      <td>76.0</td>\n",
       "      <td>529</td>\n",
       "      <td>25.9</td>\n",
       "      <td>39</td>\n",
       "      <td>76.0</td>\n",
       "      <td>6.16</td>\n",
       "      <td>75.0</td>\n",
       "      <td>42.1</td>\n",
       "      <td>548.587312</td>\n",
       "      <td>12366165.0</td>\n",
       "      <td>1.6</td>\n",
       "      <td>1.7</td>\n",
       "      <td>0.427</td>\n",
       "      <td>9.8</td>\n",
       "      <td>0</td>\n",
       "      <td>1</td>\n",
       "    </tr>\n",
       "    <tr>\n",
       "      <th>2937</th>\n",
       "      <td>665.0</td>\n",
       "      <td>24</td>\n",
       "      <td>1.68</td>\n",
       "      <td>8.717409</td>\n",
       "      <td>79.0</td>\n",
       "      <td>1483</td>\n",
       "      <td>25.5</td>\n",
       "      <td>39</td>\n",
       "      <td>78.0</td>\n",
       "      <td>7.10</td>\n",
       "      <td>78.0</td>\n",
       "      <td>43.5</td>\n",
       "      <td>547.358878</td>\n",
       "      <td>12222251.0</td>\n",
       "      <td>11.0</td>\n",
       "      <td>11.2</td>\n",
       "      <td>0.434</td>\n",
       "      <td>9.8</td>\n",
       "      <td>0</td>\n",
       "      <td>1</td>\n",
       "    </tr>\n",
       "  </tbody>\n",
       "</table>\n",
       "<p>2938 rows × 20 columns</p>\n",
       "</div>"
      ],
      "text/plain": [
       "      Adult Mortality  infant deaths  Alcohol  Percentage_Expenditure  \\\n",
       "0               263.0             62     0.01               71.279624   \n",
       "1               271.0             64     0.01               73.523582   \n",
       "2               268.0             66     0.01               73.219243   \n",
       "3               272.0             69     0.01               78.184215   \n",
       "4               275.0             71     0.01                7.097109   \n",
       "...               ...            ...      ...                     ...   \n",
       "2933            723.0             27     4.36                8.717409   \n",
       "2934            715.0             26     4.06                8.717409   \n",
       "2935             73.0             25     4.43                8.717409   \n",
       "2936            686.0             25     1.72                8.717409   \n",
       "2937            665.0             24     1.68                8.717409   \n",
       "\n",
       "      Hepatitis B  Measles   BMI  under-five deaths  Polio  Total_Expenditure  \\\n",
       "0            65.0     1154  19.1                 83    6.0               8.16   \n",
       "1            62.0      492  18.6                 86   58.0               8.18   \n",
       "2            64.0      430  18.1                 89   62.0               8.13   \n",
       "3            67.0     2787  17.6                 93   67.0               8.52   \n",
       "4            68.0     3013  17.2                 97   68.0               7.87   \n",
       "...           ...      ...   ...                ...    ...                ...   \n",
       "2933         68.0       31  27.1                 42   67.0               7.13   \n",
       "2934          7.0      998  26.7                 41    7.0               6.52   \n",
       "2935         73.0      304  26.3                 40   73.0               6.53   \n",
       "2936         76.0      529  25.9                 39   76.0               6.16   \n",
       "2937         79.0     1483  25.5                 39   78.0               7.10   \n",
       "\n",
       "      Diphtheria  HIV/AIDS         GDP  Population  thinness  1-19 years  \\\n",
       "0           65.0       0.1  584.259210  33736494.0                  17.2   \n",
       "1           62.0       0.1  612.696514    327582.0                  17.5   \n",
       "2           64.0       0.1  631.744976  31731688.0                  17.7   \n",
       "3           67.0       0.1  669.959000   3696958.0                  17.9   \n",
       "4           68.0       0.1   63.537231   2978599.0                  18.2   \n",
       "...          ...       ...         ...         ...                   ...   \n",
       "2933        65.0      33.6  454.366654  12777511.0                   9.4   \n",
       "2934        68.0      36.7  453.351155  12633897.0                   9.8   \n",
       "2935        71.0      39.8   57.348340    125525.0                   1.2   \n",
       "2936        75.0      42.1  548.587312  12366165.0                   1.6   \n",
       "2937        78.0      43.5  547.358878  12222251.0                  11.0   \n",
       "\n",
       "      thinness 5-9 years  Income_Composition_Resources  Schooling  \\\n",
       "0                   17.3                         0.479       10.1   \n",
       "1                   17.5                         0.476       10.0   \n",
       "2                   17.7                         0.470        9.9   \n",
       "3                   18.0                         0.463        9.8   \n",
       "4                   18.2                         0.454        9.5   \n",
       "...                  ...                           ...        ...   \n",
       "2933                 9.4                         0.407        9.2   \n",
       "2934                 9.9                         0.418        9.5   \n",
       "2935                 1.3                         0.427       10.0   \n",
       "2936                 1.7                         0.427        9.8   \n",
       "2937                11.2                         0.434        9.8   \n",
       "\n",
       "      Status_Developed  Status_Developing  \n",
       "0                    0                  1  \n",
       "1                    0                  1  \n",
       "2                    0                  1  \n",
       "3                    0                  1  \n",
       "4                    0                  1  \n",
       "...                ...                ...  \n",
       "2933                 0                  1  \n",
       "2934                 0                  1  \n",
       "2935                 0                  1  \n",
       "2936                 0                  1  \n",
       "2937                 0                  1  \n",
       "\n",
       "[2938 rows x 20 columns]"
      ]
     },
     "execution_count": 8,
     "metadata": {},
     "output_type": "execute_result"
    }
   ],
   "source": [
    "X"
   ]
  },
  {
   "cell_type": "code",
   "execution_count": 9,
   "id": "a50f244b",
   "metadata": {
    "scrolled": false
   },
   "outputs": [
    {
     "name": "stdout",
     "output_type": "stream",
     "text": [
      "y:  <class 'pandas.core.series.Series'> (2938,)\n"
     ]
    }
   ],
   "source": [
    "y = wrangled_WHO_data['Life_Expectancy']\n",
    "print(\"y: \", type(y), y.shape)"
   ]
  },
  {
   "cell_type": "code",
   "execution_count": 10,
   "id": "4db9edf4",
   "metadata": {
    "scrolled": false
   },
   "outputs": [
    {
     "data": {
      "text/plain": [
       "['Adult Mortality',\n",
       " 'infant deaths',\n",
       " 'Alcohol',\n",
       " 'Percentage_Expenditure',\n",
       " 'Hepatitis B',\n",
       " 'Measles',\n",
       " 'BMI',\n",
       " 'under-five deaths',\n",
       " 'Polio',\n",
       " 'Total_Expenditure',\n",
       " 'Diphtheria',\n",
       " 'HIV/AIDS',\n",
       " 'GDP',\n",
       " 'Population',\n",
       " 'thinness  1-19 years',\n",
       " 'thinness 5-9 years',\n",
       " 'Income_Composition_Resources',\n",
       " 'Schooling',\n",
       " 'Status_Developed',\n",
       " 'Status_Developing']"
      ]
     },
     "execution_count": 10,
     "metadata": {},
     "output_type": "execute_result"
    }
   ],
   "source": [
    "list(X.columns)"
   ]
  },
  {
   "cell_type": "code",
   "execution_count": 11,
   "id": "b674ce00",
   "metadata": {
    "scrolled": false
   },
   "outputs": [
    {
     "data": {
      "text/plain": [
       "0       65.0\n",
       "1       59.9\n",
       "2       59.9\n",
       "3       59.5\n",
       "4       59.2\n",
       "        ... \n",
       "2933    44.3\n",
       "2934    44.5\n",
       "2935    44.8\n",
       "2936    45.3\n",
       "2937    46.0\n",
       "Name: Life_Expectancy, Length: 2938, dtype: float64"
      ]
     },
     "execution_count": 11,
     "metadata": {},
     "output_type": "execute_result"
    }
   ],
   "source": [
    "y"
   ]
  },
  {
   "cell_type": "markdown",
   "id": "6c68a769",
   "metadata": {},
   "source": [
    "# Split into Train and Test sets"
   ]
  },
  {
   "cell_type": "code",
   "execution_count": 12,
   "id": "78d5a6f3",
   "metadata": {
    "scrolled": true
   },
   "outputs": [
    {
     "name": "stdout",
     "output_type": "stream",
     "text": [
      "Training split has  2203  rows\n",
      " and the corresponding labels have an equal number of values. (2203)\n",
      "Test split has  735  rows\n",
      " and the corresponding labels have an equal number of values. (735)\n"
     ]
    }
   ],
   "source": [
    "X_train, X_test, y_train, y_test = train_test_split(X, y, test_size=0.25, random_state=47)\n",
    "print('Training split has ', X_train.shape[0], ' rows\\n',\n",
    "      'and the corresponding labels have an equal number of values.', \n",
    "      '(' + str(len(y_train))+ ')')\n",
    "print('Test split has ', X_test.shape[0], ' rows\\n',\n",
    "      'and the corresponding labels have an equal number of values.', \n",
    "      '(' + str(len(y_test)) + ')')"
   ]
  },
  {
   "cell_type": "markdown",
   "id": "b5fd1c98",
   "metadata": {},
   "source": [
    "# Recalling the guided capstone, it had us consider the MEAN - how good the mean is as a predictor?"
   ]
  },
  {
   "cell_type": "code",
   "execution_count": 13,
   "id": "baf1918a",
   "metadata": {},
   "outputs": [
    {
     "data": {
      "text/plain": [
       "array([[69.16806627]])"
      ]
     },
     "execution_count": 13,
     "metadata": {},
     "output_type": "execute_result"
    }
   ],
   "source": [
    "#Fit the dummy regressor on the training data\n",
    "from sklearn.dummy import DummyRegressor\n",
    "\n",
    "dumb_reg = DummyRegressor(strategy='mean')\n",
    "dumb_reg.fit(X_train, y_train)\n",
    "dumb_reg.constant_"
   ]
  },
  {
   "cell_type": "code",
   "execution_count": 14,
   "id": "6cf325af",
   "metadata": {
    "scrolled": true
   },
   "outputs": [
    {
     "data": {
      "text/plain": [
       "array([69.16806627, 69.16806627, 69.16806627, 69.16806627, 69.16806627])"
      ]
     },
     "execution_count": 14,
     "metadata": {},
     "output_type": "execute_result"
    }
   ],
   "source": [
    "#check out some metrics - again referring back to guided capstone\n",
    "\n",
    "#r^2\n",
    "y_tr_pred = dumb_reg.predict(X_train)\n",
    "y_tr_pred[:5]"
   ]
  },
  {
   "cell_type": "code",
   "execution_count": 15,
   "id": "9cc8037b",
   "metadata": {
    "scrolled": true
   },
   "outputs": [
    {
     "data": {
      "text/plain": [
       "0.0"
      ]
     },
     "execution_count": 15,
     "metadata": {},
     "output_type": "execute_result"
    }
   ],
   "source": [
    "#Calculate the R^2 - amount of variance\n",
    "def r_squared(y, ypred):\n",
    "    \"\"\"R-squared score.\n",
    "    \n",
    "    Calculate the R-squared, or coefficient of determination, of the input.\n",
    "    \n",
    "    Arguments:\n",
    "    y -- the observed values\n",
    "    ypred -- the predicted values\n",
    "    \"\"\"\n",
    "      \n",
    "    ybar = np.sum(y) / len(y) #yes, we could use np.mean(y)\n",
    "    sum_sq_tot = np.sum((y - ybar)**2) #total sum of squares error\n",
    "    sum_sq_res = np.sum((y - ypred)**2) #residual sum of squares error\n",
    "    R2 = 1.0 - sum_sq_res / sum_sq_tot\n",
    "    return R2\n",
    "\n",
    "r_squared(y_train, y_tr_pred)"
   ]
  },
  {
   "cell_type": "markdown",
   "id": "74a3e2de",
   "metadata": {},
   "source": [
    "If you use the average value as your prediction, you get an R^2 of zero on the training set. What if you use this \"model\" to predict unseen values from the test set? Remember, of course, that your \"model\" is trained on the training set; you still use the training set mean as your prediction.\n",
    "\n",
    "Make your predictions by creating an array of length the size of the test set with the single value of the (training) mean."
   ]
  },
  {
   "cell_type": "code",
   "execution_count": 16,
   "id": "f93809a2",
   "metadata": {},
   "outputs": [
    {
     "data": {
      "text/plain": [
       "69.1680662732637"
      ]
     },
     "execution_count": 16,
     "metadata": {},
     "output_type": "execute_result"
    }
   ],
   "source": [
    "#Calculate the mean of `y_train`\n",
    "train_mean = y_train.mean()\n",
    "train_mean"
   ]
  },
  {
   "cell_type": "code",
   "execution_count": 17,
   "id": "0aebf19d",
   "metadata": {
    "scrolled": false
   },
   "outputs": [
    {
     "data": {
      "text/plain": [
       "-0.00038692692903219417"
      ]
     },
     "execution_count": 17,
     "metadata": {},
     "output_type": "execute_result"
    }
   ],
   "source": [
    "y_te_pred = train_mean * np.ones(len(y_test))\n",
    "r_squared(y_test, y_te_pred)"
   ]
  },
  {
   "cell_type": "code",
   "execution_count": 18,
   "id": "f1fadd91",
   "metadata": {
    "scrolled": true
   },
   "outputs": [
    {
     "data": {
      "text/plain": [
       "(0.0, -0.00038692692903219417)"
      ]
     },
     "execution_count": 18,
     "metadata": {},
     "output_type": "execute_result"
    }
   ],
   "source": [
    "#use sklearn to compare\n",
    "r2_score(y_train, y_tr_pred), r2_score(y_test, y_te_pred)"
   ]
  },
  {
   "cell_type": "markdown",
   "id": "d484d95e",
   "metadata": {},
   "source": [
    "OK this fits the data really poorly!"
   ]
  },
  {
   "cell_type": "code",
   "execution_count": 19,
   "id": "2c230396",
   "metadata": {},
   "outputs": [
    {
     "data": {
      "text/plain": [
       "(7.789523406059784, 7.775434364394878)"
      ]
     },
     "execution_count": 19,
     "metadata": {},
     "output_type": "execute_result"
    }
   ],
   "source": [
    "mean_absolute_error(y_train, y_tr_pred), mean_absolute_error(y_test, y_te_pred)"
   ]
  },
  {
   "cell_type": "markdown",
   "id": "61b8bc96",
   "metadata": {},
   "source": [
    "SO this is saying that this essentially says, on average, we'd be off by around 8 (eight) years (of life expectancy) if we guessed based on an average of known values."
   ]
  },
  {
   "cell_type": "code",
   "execution_count": 20,
   "id": "f80af760",
   "metadata": {},
   "outputs": [
    {
     "data": {
      "text/plain": [
       "(90.39889058662011, 90.51160014803055)"
      ]
     },
     "execution_count": 20,
     "metadata": {},
     "output_type": "execute_result"
    }
   ],
   "source": [
    "mean_squared_error(y_train, y_tr_pred), mean_squared_error(y_test, y_te_pred)"
   ]
  },
  {
   "cell_type": "code",
   "execution_count": 21,
   "id": "506d2da0",
   "metadata": {
    "scrolled": true
   },
   "outputs": [
    {
     "name": "stdout",
     "output_type": "stream",
     "text": [
      "Train MSE:  9.507833117310174\n",
      "Test MSE:  9.513758465928728\n"
     ]
    }
   ],
   "source": [
    "print('Train MSE: ',np.sqrt(mean_squared_error(y_train, y_tr_pred)))\n",
    "print('Test MSE: ',np.sqrt(mean_squared_error(y_test, y_te_pred)))"
   ]
  },
  {
   "cell_type": "markdown",
   "id": "6aa39213",
   "metadata": {},
   "source": [
    "Error on both train and test about 9.5 (life expectancy years)."
   ]
  },
  {
   "cell_type": "markdown",
   "id": "4d0a8088",
   "metadata": {},
   "source": [
    "# Standardize the magnitude of numeric features using a scaler"
   ]
  },
  {
   "cell_type": "code",
   "execution_count": 22,
   "id": "183b6a0e",
   "metadata": {},
   "outputs": [],
   "source": [
    "from sklearn.preprocessing import StandardScaler\n",
    "\n",
    "# define standard scaler\n",
    "scaler = StandardScaler()\n",
    "\n",
    "# transform data\n",
    "#Call the StandardScaler`s fit method on `X_tr` to fit the scaler\n",
    "#then use it's `transform()` method to apply the scaling to both the train and test split\n",
    "scaler.fit(X_train)\n",
    "X_tr_scaled = scaler.transform(X_train)\n",
    "X_te_scaled = scaler.transform(X_test)"
   ]
  },
  {
   "cell_type": "markdown",
   "id": "a5c381ae",
   "metadata": {},
   "source": [
    "# Model 1: Linear Regression"
   ]
  },
  {
   "cell_type": "markdown",
   "id": "40fe7b7c",
   "metadata": {},
   "source": [
    "Train the model on the train split"
   ]
  },
  {
   "cell_type": "code",
   "execution_count": 23,
   "id": "d7fcd0c4",
   "metadata": {
    "scrolled": false
   },
   "outputs": [],
   "source": [
    "lm = LinearRegression().fit(X_tr_scaled, y_train)"
   ]
  },
  {
   "cell_type": "markdown",
   "id": "11e70e9b",
   "metadata": {},
   "source": [
    "Make predictions using the model on both train and test splits"
   ]
  },
  {
   "cell_type": "code",
   "execution_count": 24,
   "id": "4479b123",
   "metadata": {},
   "outputs": [],
   "source": [
    "y_tr_pred = lm.predict(X_tr_scaled)\n",
    "y_te_pred = lm.predict(X_te_scaled)"
   ]
  },
  {
   "cell_type": "markdown",
   "id": "30e461f1",
   "metadata": {},
   "source": [
    "Assess model performance"
   ]
  },
  {
   "cell_type": "code",
   "execution_count": 25,
   "id": "b22dcb16",
   "metadata": {},
   "outputs": [
    {
     "data": {
      "text/plain": [
       "(0.8210836390531903, 0.8085813264421107)"
      ]
     },
     "execution_count": 25,
     "metadata": {},
     "output_type": "execute_result"
    }
   ],
   "source": [
    "# r^2 - train, test\n",
    "median_r2 = r2_score(y_train, y_tr_pred), r2_score(y_test, y_te_pred)\n",
    "median_r2"
   ]
  },
  {
   "cell_type": "markdown",
   "id": "1d92816b",
   "metadata": {},
   "source": [
    "A simple linear regression model explains about 80% of the variance on the train set and basically the same on the test set. Not bad!"
   ]
  },
  {
   "cell_type": "markdown",
   "id": "cf569216",
   "metadata": {},
   "source": [
    "Calculate the mean absolute error scores using `sklearn`'s `mean_absolute_error` function"
   ]
  },
  {
   "cell_type": "code",
   "execution_count": 26,
   "id": "a2f92a1f",
   "metadata": {},
   "outputs": [
    {
     "data": {
      "text/plain": [
       "(3.055219887965021, 3.079398079367959)"
      ]
     },
     "execution_count": 26,
     "metadata": {},
     "output_type": "execute_result"
    }
   ],
   "source": [
    "# as we did above for R^2\n",
    "# MAE - train, test\n",
    "median_mae = mean_absolute_error(y_train, y_tr_pred), mean_absolute_error(y_test, y_te_pred)\n",
    "median_mae"
   ]
  },
  {
   "cell_type": "markdown",
   "id": "fa9c1d9a",
   "metadata": {},
   "source": [
    "Using this model, then, on average you'd expect to estimate life expectancy within 3 or so years of the actual number."
   ]
  },
  {
   "cell_type": "code",
   "execution_count": 27,
   "id": "4b49b929",
   "metadata": {},
   "outputs": [
    {
     "data": {
      "text/plain": [
       "(16.173840537386884, 17.31890928955247)"
      ]
     },
     "execution_count": 27,
     "metadata": {},
     "output_type": "execute_result"
    }
   ],
   "source": [
    "#And also do the same using `sklearn`'s `mean_squared_error`\n",
    "# MSE - train, test\n",
    "median_mse = mean_squared_error(y_train, y_tr_pred), mean_squared_error(y_test, y_te_pred)\n",
    "median_mse"
   ]
  },
  {
   "cell_type": "code",
   "execution_count": 28,
   "id": "aeb73096",
   "metadata": {
    "scrolled": true
   },
   "outputs": [
    {
     "name": "stdout",
     "output_type": "stream",
     "text": [
      "Train MSE:  4.021671361186401\n",
      "Test MSE:  4.161599366776248\n"
     ]
    }
   ],
   "source": [
    "print('Train MSE: ',np.sqrt(mean_squared_error(y_train, y_tr_pred)))\n",
    "print('Test MSE: ',np.sqrt(mean_squared_error(y_test, y_te_pred)))"
   ]
  },
  {
   "cell_type": "markdown",
   "id": "b607f4b4",
   "metadata": {},
   "source": [
    "# Linear Regression: Summary"
   ]
  },
  {
   "cell_type": "code",
   "execution_count": 29,
   "id": "3df4f0e5",
   "metadata": {
    "scrolled": false
   },
   "outputs": [
    {
     "name": "stdout",
     "output_type": "stream",
     "text": [
      "Train score: 0.8210836390531903\n",
      "\n",
      "Test score: 0.8085813264421107\n",
      "\n",
      "Overall model R2: 0.8085813264421107\n",
      "\n",
      "Mean Squared Error: 4.161599366776248\n"
     ]
    }
   ],
   "source": [
    "# score the model on the train set\n",
    "print('Train score: {}\\n'.format(lm.score(X_tr_scaled,y_train)))\n",
    "# score the model on the test set\n",
    "print('Test score: {}\\n'.format(lm.score(X_te_scaled,y_test)))\n",
    "# calculate the overall accuracy of the model\n",
    "print('Overall model R2: {}\\n'.format(r2_score(y_test,y_te_pred)))\n",
    "# compute the mean squared error of the model\n",
    "print('Mean Squared Error: {}'.format(np.sqrt(mean_squared_error(y_test,y_te_pred))))"
   ]
  },
  {
   "cell_type": "markdown",
   "id": "7fdb9c78",
   "metadata": {},
   "source": [
    "No overfitting here. R2 looking good. MSE not too bad."
   ]
  },
  {
   "cell_type": "code",
   "execution_count": 30,
   "id": "92fd47aa",
   "metadata": {},
   "outputs": [],
   "source": [
    "#save model score for comparison \n",
    "lrR2 = r2_score(y_test,y_te_pred)"
   ]
  },
  {
   "cell_type": "markdown",
   "id": "d9ade28d",
   "metadata": {},
   "source": [
    "# Model 2: KNN"
   ]
  },
  {
   "cell_type": "code",
   "execution_count": 31,
   "id": "42959d52",
   "metadata": {
    "scrolled": true
   },
   "outputs": [],
   "source": [
    "from math import sqrt\n",
    "%matplotlib inline"
   ]
  },
  {
   "cell_type": "markdown",
   "id": "8bffe60c",
   "metadata": {},
   "source": [
    "Store rmse values for different k. RMSE measures the average difference between values predicted by a model and the actual values. It provides an estimation of how well the model is able to predict the target value (accuracy). A value of 0 would indicate a perfect fit to the data."
   ]
  },
  {
   "cell_type": "code",
   "execution_count": 32,
   "id": "eac59489",
   "metadata": {
    "scrolled": true
   },
   "outputs": [
    {
     "name": "stdout",
     "output_type": "stream",
     "text": [
      "RMSE value for k= 1 is: 2.899148948545131\n",
      "RMSE value for k= 2 is: 2.6605220448288733\n",
      "RMSE value for k= 3 is: 2.63097615445698\n",
      "RMSE value for k= 4 is: 2.699453089292814\n",
      "RMSE value for k= 5 is: 2.777972392275506\n",
      "RMSE value for k= 6 is: 2.839823848374387\n",
      "RMSE value for k= 7 is: 2.9376664337666742\n",
      "RMSE value for k= 8 is: 3.0047626682655055\n",
      "RMSE value for k= 9 is: 3.0560440755634306\n",
      "RMSE value for k= 10 is: 3.0951655302849224\n",
      "RMSE value for k= 11 is: 3.1753998919906268\n",
      "RMSE value for k= 12 is: 3.2415870528670356\n",
      "RMSE value for k= 13 is: 3.2492535099272795\n",
      "RMSE value for k= 14 is: 3.2593539926275654\n",
      "RMSE value for k= 15 is: 3.3004922901774494\n",
      "RMSE value for k= 16 is: 3.338083881000991\n",
      "RMSE value for k= 17 is: 3.3572048545861204\n",
      "RMSE value for k= 18 is: 3.396811903498888\n",
      "RMSE value for k= 19 is: 3.4131448347461575\n",
      "RMSE value for k= 20 is: 3.4346691411027552\n"
     ]
    }
   ],
   "source": [
    "rmse_val = [] \n",
    "\n",
    "for K in range(20):\n",
    "    K = K+1\n",
    "    model = neighbors.KNeighborsRegressor(n_neighbors = K)\n",
    "    \n",
    "    model.fit(X_tr_scaled, y_train) #fit model\n",
    "    pred = model.predict(X_te_scaled) #make prediction on test set\n",
    "    error = sqrt(mean_squared_error(y_test,pred)) #calculate rmse\n",
    "    rmse_val.append(error) #store rmse values\n",
    "    print(\"RMSE value for k=\", K, \"is:\", error)"
   ]
  },
  {
   "cell_type": "code",
   "execution_count": 33,
   "id": "6069d59d",
   "metadata": {
    "scrolled": true
   },
   "outputs": [
    {
     "data": {
      "text/plain": [
       "<AxesSubplot:>"
      ]
     },
     "execution_count": 33,
     "metadata": {},
     "output_type": "execute_result"
    },
    {
     "data": {
      "image/png": "[encoded data removed]",
      "text/plain": [
       "<Figure size 640x480 with 1 Axes>"
      ]
     },
     "metadata": {},
     "output_type": "display_data"
    }
   ],
   "source": [
    "curve = pd.DataFrame(rmse_val)\n",
    "curve.plot()"
   ]
  },
  {
   "cell_type": "markdown",
   "id": "6a4dd6d2",
   "metadata": {},
   "source": [
    "I'm going to go with a K of 3"
   ]
  },
  {
   "cell_type": "markdown",
   "id": "58f05c7d",
   "metadata": {},
   "source": [
    "Instantiate and fit the model using the training data and training targets"
   ]
  },
  {
   "cell_type": "code",
   "execution_count": 34,
   "id": "dfa8e9c8",
   "metadata": {
    "scrolled": true
   },
   "outputs": [
    {
     "name": "stdout",
     "output_type": "stream",
     "text": [
      "KNeighborsRegressor(n_neighbors=3)\n"
     ]
    }
   ],
   "source": [
    "from sklearn.neighbors import KNeighborsRegressor\n",
    "\n",
    "# instantiate the model and set the number of neighbors to consider to 3\n",
    "model2 = neighbors.KNeighborsRegressor(n_neighbors = 3)\n",
    "\n",
    "model2.fit(X_tr_scaled, y_train)\n",
    "\n",
    "print(model2)"
   ]
  },
  {
   "cell_type": "code",
   "execution_count": 35,
   "id": "a760bbeb",
   "metadata": {},
   "outputs": [
    {
     "data": {
      "text/plain": [
       "array([75.3       , 81.03333333, 74.06666667, 60.63333333, 55.23333333,\n",
       "       54.4       , 78.        , 56.4       , 78.66666667, 74.7       ,\n",
       "       75.03333333, 54.63333333, 72.26666667, 68.46666667, 68.3       ,\n",
       "       80.16666667, 71.9       , 80.76666667, 68.36666667, 73.6       ,\n",
       "       51.86666667, 57.66666667, 50.06666667, 74.56666667, 72.66666667,\n",
       "       70.63333333, 77.03333333, 78.5       , 46.73333333, 64.26666667,\n",
       "       63.6       , 73.76666667, 80.36666667, 54.86666667, 60.46666667,\n",
       "       75.43333333, 70.23333333, 76.53333333, 74.3       , 74.7       ,\n",
       "       63.56666667, 75.93333333, 65.4       , 46.96666667, 45.73333333,\n",
       "       57.8       , 73.73333333, 74.        , 69.36666667, 61.3       ,\n",
       "       75.3       , 64.36666667, 75.6       , 75.26666667, 75.03333333,\n",
       "       77.4       , 71.7       , 76.76666667, 50.8       , 71.73333333,\n",
       "       73.36666667, 66.83333333, 74.        , 61.1       , 72.36666667,\n",
       "       72.73333333, 68.1       , 82.33333333, 75.8       , 70.86666667,\n",
       "       74.03333333, 77.66666667, 73.86666667, 74.03333333, 71.2       ,\n",
       "       56.06666667, 71.8       , 60.66666667, 61.3       , 73.7       ,\n",
       "       77.43333333, 65.73333333, 64.1       , 63.        , 47.66666667,\n",
       "       74.9       , 73.53333333, 59.23333333, 74.4       , 81.66666667,\n",
       "       75.7       , 54.96666667, 78.2       , 75.16666667, 74.8       ,\n",
       "       83.56666667, 72.06666667, 73.36666667, 74.06666667, 64.13333333,\n",
       "       49.33333333, 75.33333333, 80.13333333, 76.33333333, 57.36666667,\n",
       "       73.5       , 83.23333333, 65.5       , 68.76666667, 74.03333333,\n",
       "       72.63333333, 72.5       , 72.63333333, 79.06666667, 56.93333333,\n",
       "       49.33333333, 63.5       , 66.96666667, 54.03333333, 74.6       ,\n",
       "       73.86666667, 66.43333333, 55.4       , 52.46666667, 81.3       ,\n",
       "       70.06666667, 74.6       , 82.        , 52.46666667, 70.36666667,\n",
       "       53.83333333, 73.73333333, 56.16666667, 77.53333333, 63.06666667,\n",
       "       74.43333333, 69.66666667, 55.63333333, 74.16666667, 56.1       ,\n",
       "       68.6       , 55.7       , 62.53333333, 75.        , 67.8       ,\n",
       "       78.86666667, 57.06666667, 68.33333333, 73.23333333, 72.7       ,\n",
       "       75.46666667, 59.1       , 72.63333333, 75.06666667, 72.63333333,\n",
       "       75.23333333, 71.16666667, 74.7       , 77.73333333, 74.3       ,\n",
       "       71.8       , 57.        , 59.03333333, 73.9       , 63.66666667,\n",
       "       79.13333333, 73.9       , 56.03333333, 82.56666667, 66.7       ,\n",
       "       73.23333333, 74.26666667, 50.7       , 79.36666667, 55.63333333,\n",
       "       75.83333333, 73.53333333, 73.53333333, 74.86666667, 49.2       ,\n",
       "       57.66666667, 72.06666667, 84.2       , 70.16666667, 71.2       ,\n",
       "       74.4       , 58.        , 74.66666667, 79.7       , 78.83333333,\n",
       "       54.63333333, 72.        , 72.83333333, 80.4       , 73.76666667,\n",
       "       71.53333333, 70.53333333, 71.9       , 65.3       , 74.36666667,\n",
       "       55.33333333, 74.6       , 62.36666667, 65.66666667, 84.46666667,\n",
       "       79.2       , 82.5       , 79.3       , 76.46666667, 53.33333333,\n",
       "       65.53333333, 73.53333333, 58.1       , 83.86666667, 62.63333333,\n",
       "       72.66666667, 74.66666667, 75.6       , 80.93333333, 77.36666667,\n",
       "       78.4       , 50.53333333, 84.        , 74.9       , 70.7       ,\n",
       "       59.5       , 82.73333333, 61.26666667, 70.06666667, 56.2       ,\n",
       "       58.93333333, 72.16666667, 82.56666667, 63.9       , 78.9       ,\n",
       "       55.23333333, 51.3       , 73.93333333, 74.13333333, 65.83333333,\n",
       "       75.16666667, 65.66666667, 59.73333333, 75.96666667, 76.4       ,\n",
       "       67.56666667, 75.63333333, 73.96666667, 74.76666667, 77.03333333,\n",
       "       63.26666667, 51.86666667, 72.43333333, 78.5       , 75.56666667,\n",
       "       78.53333333, 55.3       , 67.43333333, 71.1       , 52.13333333,\n",
       "       74.46666667, 53.33333333, 85.93333333, 82.16666667, 82.23333333,\n",
       "       57.4       , 70.93333333, 61.93333333, 62.73333333, 73.9       ,\n",
       "       77.1       , 81.3       , 75.2       , 82.16666667, 72.26666667,\n",
       "       70.08333333, 60.43333333, 82.33333333, 72.06666667, 74.5       ,\n",
       "       63.4       , 78.43333333, 58.63333333, 80.36666667, 73.83333333,\n",
       "       63.76666667, 63.86666667, 81.96666667, 54.83333333, 53.        ,\n",
       "       73.46666667, 71.6       , 76.83333333, 82.56666667, 51.13333333,\n",
       "       52.33333333, 58.33333333, 68.6       , 74.03333333, 73.33333333,\n",
       "       67.16666667, 70.46666667, 63.53333333, 72.13333333, 66.56666667,\n",
       "       75.3       , 63.2       , 73.53333333, 68.86666667, 46.96666667,\n",
       "       67.4       , 69.43333333, 78.8       , 68.1       , 74.5       ,\n",
       "       75.36666667, 73.16666667, 81.56666667, 74.56666667, 80.76666667,\n",
       "       72.43333333, 74.        , 70.63333333, 82.4       , 68.3       ,\n",
       "       82.4       , 82.26666667, 72.73333333, 74.26666667, 75.86666667,\n",
       "       79.23333333, 65.73333333, 74.86666667, 73.06666667, 54.13333333,\n",
       "       80.36666667, 82.96666667, 72.76666667, 74.53333333, 73.53333333,\n",
       "       78.1       , 70.63333333, 73.36666667, 63.23333333, 73.8       ,\n",
       "       65.66666667, 73.9       , 74.13333333, 70.9       , 83.33333333,\n",
       "       72.7       , 51.8       , 74.9       , 59.93333333, 56.4       ,\n",
       "       72.13333333, 51.93333333, 72.63333333, 73.        , 72.6       ,\n",
       "       71.        , 73.43333333, 65.5       , 72.63333333, 72.7       ,\n",
       "       73.9       , 59.6       , 72.53333333, 71.23333333, 73.46666667,\n",
       "       83.46666667, 73.6       , 72.56666667, 73.1       , 68.86666667,\n",
       "       54.63333333, 65.        , 46.16666667, 78.86666667, 66.13333333,\n",
       "       79.23333333, 54.33333333, 75.36666667, 75.5       , 65.1       ,\n",
       "       80.36666667, 79.96666667, 73.66666667, 56.3       , 64.3       ,\n",
       "       69.96666667, 81.93333333, 53.5       , 80.        , 81.63333333,\n",
       "       76.86666667, 72.76666667, 74.56666667, 70.83333333, 80.76666667,\n",
       "       72.6       , 71.13333333, 75.76666667, 72.2       , 81.93333333,\n",
       "       79.06666667, 65.2       , 73.        , 70.96666667, 77.36666667,\n",
       "       65.9       , 84.66666667, 78.03333333, 65.4       , 72.83333333,\n",
       "       63.9       , 83.46666667, 65.86666667, 71.7       , 74.83333333,\n",
       "       46.13333333, 73.53333333, 74.23333333, 54.86666667, 55.6       ,\n",
       "       65.        , 72.96666667, 80.93333333, 56.        , 64.06666667,\n",
       "       82.96666667, 63.96666667, 71.26666667, 72.2       , 84.2       ,\n",
       "       49.33333333, 73.56666667, 75.2       , 59.73333333, 65.7       ,\n",
       "       84.66666667, 75.13333333, 68.66666667, 63.63333333, 78.76666667,\n",
       "       82.06666667, 56.36666667, 80.8       , 71.83333333, 78.86666667,\n",
       "       73.96666667, 55.3       , 76.7       , 73.26666667, 55.46666667,\n",
       "       78.53333333, 74.56666667, 74.9       , 60.4       , 53.33333333,\n",
       "       49.9       , 78.16666667, 53.33333333, 78.        , 78.83333333,\n",
       "       72.43333333, 53.13333333, 80.26666667, 77.6       , 65.53333333,\n",
       "       71.73333333, 63.26666667, 73.13333333, 63.23333333, 74.86666667,\n",
       "       56.9       , 67.1       , 61.5       , 64.26666667, 60.33333333,\n",
       "       67.43333333, 80.5       , 78.86666667, 75.46666667, 57.76666667,\n",
       "       74.53333333, 60.63333333, 81.1       , 73.53333333, 69.66666667,\n",
       "       74.43333333, 81.96666667, 76.03333333, 65.7       , 72.1       ,\n",
       "       64.3       , 73.53333333, 62.23333333, 77.06666667, 74.26666667,\n",
       "       83.86666667, 56.5       , 65.83333333, 77.8       , 74.43333333,\n",
       "       60.1       , 49.86666667, 73.56666667, 72.76666667, 74.56666667,\n",
       "       46.96666667, 75.23333333, 54.6       , 72.26666667, 62.16666667,\n",
       "       73.46666667, 75.4       , 51.83333333, 63.23333333, 75.06666667,\n",
       "       67.4       , 65.4       , 55.26666667, 67.43333333, 72.9       ,\n",
       "       67.1       , 75.83333333, 67.16666667, 64.1       , 64.76666667,\n",
       "       64.03333333, 63.4       , 67.83333333, 59.36666667, 81.8       ,\n",
       "       72.66666667, 51.4       , 60.63333333, 67.93333333, 74.03333333,\n",
       "       74.03333333, 67.3       , 46.23333333, 74.03333333, 58.9       ,\n",
       "       79.76666667, 72.66666667, 68.46666667, 75.        , 69.1       ,\n",
       "       72.43333333, 73.93333333, 81.53333333, 74.26666667, 79.3       ,\n",
       "       52.06666667, 74.7       , 81.4       , 71.76666667, 59.23333333,\n",
       "       71.6       , 56.06666667, 72.33333333, 73.83333333, 81.83333333,\n",
       "       58.        , 66.7       , 63.5       , 74.13333333, 86.        ,\n",
       "       74.        , 70.        , 79.6       , 75.        , 63.4       ,\n",
       "       74.6       , 72.33333333, 73.8       , 64.3       , 75.1       ,\n",
       "       67.8       , 47.2       , 74.83333333, 74.13333333, 79.6       ,\n",
       "       80.6       , 74.66666667, 64.9       , 68.73333333, 68.43333333,\n",
       "       72.73333333, 59.53333333, 76.8       , 74.53333333, 74.06666667,\n",
       "       54.53333333, 69.96666667, 53.03333333, 80.5       , 74.        ,\n",
       "       83.66666667, 54.96666667, 66.26666667, 76.03333333, 74.9       ,\n",
       "       72.3       , 74.3       , 83.13333333, 72.7       , 76.8       ,\n",
       "       59.4       , 56.3       , 51.03333333, 79.96666667, 74.8       ,\n",
       "       71.9       , 77.63333333, 74.23333333, 78.86666667, 72.96666667,\n",
       "       59.8       , 58.06666667, 73.4       , 75.33333333, 73.23333333,\n",
       "       69.46666667, 73.06666667, 82.56666667, 73.76666667, 75.63333333,\n",
       "       69.73333333, 75.06666667, 77.46666667, 72.9       , 67.1       ,\n",
       "       67.36666667, 77.4       , 76.93333333, 78.8       , 57.73333333,\n",
       "       70.83333333, 56.53333333, 80.        , 78.86666667, 73.43333333,\n",
       "       68.43333333, 57.06666667, 58.3       , 69.86666667, 74.        ,\n",
       "       65.3       , 69.73333333, 77.36666667, 78.03333333, 57.06666667,\n",
       "       59.03333333, 61.86666667, 52.2       , 58.4       , 56.86666667,\n",
       "       84.5       , 61.2       , 82.1       , 68.43333333, 63.43333333,\n",
       "       69.06666667, 54.73333333, 61.8       , 52.63333333, 66.6       ,\n",
       "       47.83333333, 76.66666667, 71.23333333, 54.8       , 72.33333333,\n",
       "       73.        , 74.53333333, 75.        , 72.93333333, 71.8       ,\n",
       "       47.53333333, 76.7       , 79.83333333, 74.2       , 72.43333333,\n",
       "       66.13333333, 72.16666667, 56.66666667, 85.66666667, 55.83333333,\n",
       "       82.56666667, 72.1       , 72.5       , 71.6       , 51.4       ,\n",
       "       54.86666667, 73.6       , 72.33333333, 75.36666667, 57.13333333,\n",
       "       71.06666667, 46.76666667, 86.        , 73.96666667, 72.73333333,\n",
       "       51.93333333, 86.        , 62.3       , 74.26666667, 68.6       ,\n",
       "       71.16666667, 73.13333333, 71.46666667, 58.96666667, 68.8       ,\n",
       "       70.36666667, 54.1       , 52.9       , 72.46666667, 80.36666667,\n",
       "       60.5       , 66.6       , 57.1       , 71.13333333, 74.66666667,\n",
       "       80.86666667, 54.1       , 74.4       , 61.46666667, 67.2       ,\n",
       "       75.36666667, 81.76666667, 68.6       , 74.96666667, 76.76666667])"
      ]
     },
     "execution_count": 35,
     "metadata": {},
     "output_type": "execute_result"
    }
   ],
   "source": [
    "model2.predict(X_te_scaled)"
   ]
  },
  {
   "cell_type": "markdown",
   "id": "f23860e0",
   "metadata": {},
   "source": [
    "# KNN Summary"
   ]
  },
  {
   "cell_type": "code",
   "execution_count": 36,
   "id": "5ba04f91",
   "metadata": {
    "scrolled": true
   },
   "outputs": [
    {
     "name": "stdout",
     "output_type": "stream",
     "text": [
      "Train score: 0.9578504257422236\n",
      "\n",
      "Test score: 0.9234936313583626\n",
      "\n",
      "Overall model R2: 0.8696132136875967\n",
      "\n"
     ]
    }
   ],
   "source": [
    "# score the model on the train set\n",
    "print('Train score: {}\\n'.format(model2.score(X_tr_scaled,y_train)))\n",
    "# score the model on the test set\n",
    "print('Test score: {}\\n'.format(model2.score(X_te_scaled,y_test)))\n",
    "print('Overall model R2: {}\\n'.format(r2_score(y_test,pred)))"
   ]
  },
  {
   "cell_type": "markdown",
   "id": "fa92b495",
   "metadata": {},
   "source": [
    "This is looking quite good - high scores, slightly higher R2 than Linear Regression."
   ]
  },
  {
   "cell_type": "code",
   "execution_count": 38,
   "id": "7d2d4b7f",
   "metadata": {},
   "outputs": [],
   "source": [
    "#save model score for comparison\n",
    "knnR2 = r2_score(y_test,pred)"
   ]
  },
  {
   "cell_type": "markdown",
   "id": "38f09cbb",
   "metadata": {},
   "source": [
    "# Model 3: Decision Tree"
   ]
  },
  {
   "cell_type": "code",
   "execution_count": 39,
   "id": "d88dad71",
   "metadata": {},
   "outputs": [],
   "source": [
    "dtree = DecisionTreeRegressor() # initialize a DecisionTreeRegressor model"
   ]
  },
  {
   "cell_type": "markdown",
   "id": "7ae00a82",
   "metadata": {},
   "source": [
    "Fit regression model, predict"
   ]
  },
  {
   "cell_type": "code",
   "execution_count": 40,
   "id": "d2631d5c",
   "metadata": {
    "scrolled": true
   },
   "outputs": [
    {
     "name": "stdout",
     "output_type": "stream",
     "text": [
      "Score:  0.9073555618478412\n",
      "MAE:  1.7490476190476192\n",
      "MSE:  2.895194822671609\n"
     ]
    }
   ],
   "source": [
    "dtree.fit(X_train, y_train)\n",
    "yhat = dtree.predict(X_test)\n",
    "print(\"Score: \",r2_score(y_test, yhat))\n",
    "print(\"MAE: \",mean_absolute_error(y_test, yhat))\n",
    "print(\"MSE: \",np.sqrt(mean_squared_error(y_test, yhat)))"
   ]
  },
  {
   "cell_type": "markdown",
   "id": "54a1440f",
   "metadata": {},
   "source": [
    "The model score is 90%! Nice. The MAE and MSE aren't bad!"
   ]
  },
  {
   "cell_type": "markdown",
   "id": "4067ccf4",
   "metadata": {},
   "source": [
    "Comparing the Real Values with Predicted Values"
   ]
  },
  {
   "cell_type": "code",
   "execution_count": 42,
   "id": "00f9f071",
   "metadata": {
    "scrolled": true
   },
   "outputs": [
    {
     "data": {
      "text/html": [
       "<div>\n",
       "<style scoped>\n",
       "    .dataframe tbody tr th:only-of-type {\n",
       "        vertical-align: middle;\n",
       "    }\n",
       "\n",
       "    .dataframe tbody tr th {\n",
       "        vertical-align: top;\n",
       "    }\n",
       "\n",
       "    .dataframe thead th {\n",
       "        text-align: right;\n",
       "    }\n",
       "</style>\n",
       "<table border=\"1\" class=\"dataframe\">\n",
       "  <thead>\n",
       "    <tr style=\"text-align: right;\">\n",
       "      <th></th>\n",
       "      <th>Real Values</th>\n",
       "      <th>Predicted Values</th>\n",
       "    </tr>\n",
       "  </thead>\n",
       "  <tbody>\n",
       "    <tr>\n",
       "      <th>1929</th>\n",
       "      <td>76.0</td>\n",
       "      <td>76.0</td>\n",
       "    </tr>\n",
       "    <tr>\n",
       "      <th>2347</th>\n",
       "      <td>85.0</td>\n",
       "      <td>89.0</td>\n",
       "    </tr>\n",
       "    <tr>\n",
       "      <th>1876</th>\n",
       "      <td>73.0</td>\n",
       "      <td>64.4</td>\n",
       "    </tr>\n",
       "    <tr>\n",
       "      <th>2257</th>\n",
       "      <td>62.1</td>\n",
       "      <td>59.9</td>\n",
       "    </tr>\n",
       "    <tr>\n",
       "      <th>846</th>\n",
       "      <td>53.8</td>\n",
       "      <td>56.4</td>\n",
       "    </tr>\n",
       "    <tr>\n",
       "      <th>...</th>\n",
       "      <td>...</td>\n",
       "      <td>...</td>\n",
       "    </tr>\n",
       "    <tr>\n",
       "      <th>2750</th>\n",
       "      <td>76.3</td>\n",
       "      <td>76.0</td>\n",
       "    </tr>\n",
       "    <tr>\n",
       "      <th>2515</th>\n",
       "      <td>85.0</td>\n",
       "      <td>88.0</td>\n",
       "    </tr>\n",
       "    <tr>\n",
       "      <th>708</th>\n",
       "      <td>69.8</td>\n",
       "      <td>73.4</td>\n",
       "    </tr>\n",
       "    <tr>\n",
       "      <th>655</th>\n",
       "      <td>74.9</td>\n",
       "      <td>77.2</td>\n",
       "    </tr>\n",
       "    <tr>\n",
       "      <th>1860</th>\n",
       "      <td>78.6</td>\n",
       "      <td>78.0</td>\n",
       "    </tr>\n",
       "  </tbody>\n",
       "</table>\n",
       "<p>735 rows × 2 columns</p>\n",
       "</div>"
      ],
      "text/plain": [
       "      Real Values  Predicted Values\n",
       "1929         76.0              76.0\n",
       "2347         85.0              89.0\n",
       "1876         73.0              64.4\n",
       "2257         62.1              59.9\n",
       "846          53.8              56.4\n",
       "...           ...               ...\n",
       "2750         76.3              76.0\n",
       "2515         85.0              88.0\n",
       "708          69.8              73.4\n",
       "655          74.9              77.2\n",
       "1860         78.6              78.0\n",
       "\n",
       "[735 rows x 2 columns]"
      ]
     },
     "execution_count": 42,
     "metadata": {},
     "output_type": "execute_result"
    }
   ],
   "source": [
    "df = pd.DataFrame({'Real Values':y_test, 'Predicted Values':yhat})\n",
    "df"
   ]
  },
  {
   "cell_type": "markdown",
   "id": "b61222d0",
   "metadata": {},
   "source": [
    "Experiment with tuning the tree, even though the scores are already very high."
   ]
  },
  {
   "cell_type": "markdown",
   "id": "4e1c8228",
   "metadata": {},
   "source": [
    "# Tuning of the Tree"
   ]
  },
  {
   "cell_type": "code",
   "execution_count": 43,
   "id": "0e0e2917",
   "metadata": {},
   "outputs": [],
   "source": [
    "# define the hyperparameters\n",
    "params = {'max_features':['auto','sqrt','log2'],\n",
    "         'min_samples_split':[2,3,4,5,6,7,8,9],\n",
    "         'min_samples_leaf':[1,2,3,4,5,6,7,8,9],\n",
    "         'max_depth':[2,3,4,5,6,7]}                "
   ]
  },
  {
   "cell_type": "code",
   "execution_count": 44,
   "id": "85eead49",
   "metadata": {},
   "outputs": [],
   "source": [
    "# initialize the grid search\n",
    "tree_search = GridSearchCV(dtree,params,cv=5,n_jobs=-1)  "
   ]
  },
  {
   "cell_type": "code",
   "execution_count": 45,
   "id": "1b9c73fa",
   "metadata": {},
   "outputs": [],
   "source": [
    "tree_search.fit(X_train,y_train)   # fit the model\n",
    "tree_pred = tree_search.predict(X_test)  # make predictions with the model"
   ]
  },
  {
   "cell_type": "code",
   "execution_count": 47,
   "id": "0d4331c3",
   "metadata": {
    "scrolled": true
   },
   "outputs": [
    {
     "name": "stdout",
     "output_type": "stream",
     "text": [
      "Best parameter found:\n",
      "{'max_depth': 7, 'max_features': 'auto', 'min_samples_leaf': 2, 'min_samples_split': 8}\n",
      "\n",
      "Train score: 0.9556278073086907\n",
      "\n",
      "Test score: 0.9178792569811887\n",
      "\n",
      "Overall model R2: 0.9178792569811887\n",
      "\n",
      "Mean Squared Error: 2.7258035488577526\n"
     ]
    }
   ],
   "source": [
    "# print out the best parameters found and score the model\n",
    "print('Best parameter found:\\n{}\\n'.format(tree_search.best_params_))\n",
    "print('Train score: {}\\n'.format(tree_search.score(X_train,y_train)))\n",
    "print('Test score: {}\\n'.format(tree_search.score(X_test,y_test)))\n",
    "print('Overall model R2: {}\\n'.format(r2_score(y_test,tree_pred)))\n",
    "print('Mean Squared Error: {}'.format(np.sqrt(mean_squared_error(y_test,tree_pred))))"
   ]
  },
  {
   "cell_type": "code",
   "execution_count": 48,
   "id": "dd3ed0df",
   "metadata": {
    "scrolled": true
   },
   "outputs": [],
   "source": [
    "#save model score for comparison\n",
    "dtR2 = r2_score(y_test,tree_pred)"
   ]
  },
  {
   "cell_type": "markdown",
   "id": "ab51c8bc",
   "metadata": {},
   "source": [
    "This slightly improved scores that were already quite good!"
   ]
  },
  {
   "cell_type": "markdown",
   "id": "22fb8273",
   "metadata": {},
   "source": [
    "# Model 4: Random Forest"
   ]
  },
  {
   "cell_type": "code",
   "execution_count": 49,
   "id": "bbc3465d",
   "metadata": {
    "scrolled": true
   },
   "outputs": [],
   "source": [
    "import seaborn as sns\n",
    "\n",
    "#RF doesn't need scaled data\n",
    "forest = RandomForestRegressor()"
   ]
  },
  {
   "cell_type": "code",
   "execution_count": 50,
   "id": "60513181",
   "metadata": {
    "scrolled": true
   },
   "outputs": [],
   "source": [
    "#Creating the model on Training Data\n",
    "\n",
    "forest.fit(X_train, y_train)\n",
    "\n",
    "prediction=forest.predict(X_test)"
   ]
  },
  {
   "cell_type": "code",
   "execution_count": 52,
   "id": "fc7c53ec",
   "metadata": {
    "scrolled": true
   },
   "outputs": [
    {
     "name": "stdout",
     "output_type": "stream",
     "text": [
      "Train score: 0.9943652145649743\n",
      "\n",
      "Test score: 0.9633052706154228\n",
      "\n",
      "Overall model R2: 0.9633052706154228\n",
      "\n",
      "Mean Squared Error: 1.8220905769879547\n"
     ]
    }
   ],
   "source": [
    "#scoring\n",
    "print('Train score: {}\\n'.format(forest.score(X_train,y_train)))\n",
    "print('Test score: {}\\n'.format(forest.score(X_test,y_test)))\n",
    "print('Overall model R2: {}\\n'.format(r2_score(y_test,prediction)))\n",
    "print('Mean Squared Error: {}'.format(np.sqrt(mean_squared_error(y_test,prediction))))"
   ]
  },
  {
   "cell_type": "markdown",
   "id": "f8c35458",
   "metadata": {},
   "source": [
    "Excellent! Even better than Decision Tree. Try tuning, although it's performing remarkably well."
   ]
  },
  {
   "cell_type": "markdown",
   "id": "b12133bf",
   "metadata": {},
   "source": [
    "# Tuning"
   ]
  },
  {
   "cell_type": "code",
   "execution_count": 55,
   "id": "d8af4663",
   "metadata": {
    "scrolled": true
   },
   "outputs": [
    {
     "name": "stdout",
     "output_type": "stream",
     "text": [
      "Best parameter found:\n",
      "{'n_estimators': 200, 'min_samples_split': 7, 'min_samples_leaf': 3, 'max_features': 'auto', 'max_depth': 7}\n",
      "\n",
      "Train score: 0.9683338265472317\n",
      "\n",
      "Test score: 0.9509761568629735\n",
      "\n",
      "Overall model R2: 0.9509761568629735\n",
      "\n",
      "Mean Squared Error: 2.106065115178324\n"
     ]
    }
   ],
   "source": [
    "# we add the n_estimators parameter in our previous parameter dictionary\n",
    "params['n_estimators'] = [100,200,300,400,500]\n",
    "\n",
    "\n",
    "forest_search = RandomizedSearchCV(forest,params,cv=5,n_jobs=-1,     # initialize the search\n",
    "                                  n_iter=50)\n",
    "\n",
    "\n",
    "forest_search.fit(X_train,y_train)  # fit the model\n",
    "\n",
    "\n",
    "forest_pred = forest_search.predict(X_test)  # make prediction with the model\n",
    "\n",
    "\n",
    "# print out the best parameters and score the model\n",
    "print('Best parameter found:\\n{}\\n'.format(forest_search.best_params_))\n",
    "print('Train score: {}\\n'.format(forest_search.score(X_train,y_train)))\n",
    "print('Test score: {}\\n'.format(forest_search.score(X_test,y_test)))\n",
    "print('Overall model R2: {}\\n'.format(r2_score(y_test,forest_pred)))\n",
    "print('Mean Squared Error: {}'.format(np.sqrt(mean_squared_error(y_test,forest_pred))))"
   ]
  },
  {
   "cell_type": "markdown",
   "id": "7c775f1a",
   "metadata": {},
   "source": [
    "This actually made it worse, although slightly less overfitted. Going to toss the tuning."
   ]
  },
  {
   "cell_type": "code",
   "execution_count": 58,
   "id": "c92f258c",
   "metadata": {},
   "outputs": [],
   "source": [
    "#save model score for comparison\n",
    "rfR2 = r2_score(y_test,prediction)"
   ]
  },
  {
   "cell_type": "markdown",
   "id": "ff4e7e80",
   "metadata": {},
   "source": [
    "# Model 5: Gradient Boosting"
   ]
  },
  {
   "cell_type": "markdown",
   "id": "9f94f896",
   "metadata": {},
   "source": [
    "I'm just going to go ahead and apply the tuning!"
   ]
  },
  {
   "cell_type": "code",
   "execution_count": 60,
   "id": "7da42ef8",
   "metadata": {
    "scrolled": false
   },
   "outputs": [
    {
     "name": "stdout",
     "output_type": "stream",
     "text": [
      "Best parameter found:\n",
      "{'n_estimators': 400, 'min_samples_split': 2, 'min_samples_leaf': 1, 'max_features': 'sqrt', 'max_depth': 6, 'learning_rate': 0.05}\n",
      "\n",
      "Train score: 0.9981176933583014\n",
      "\n",
      "Test score: 0.963120771276268\n",
      "\n",
      "Overall model R2: 0.963120771276268\n",
      "\n",
      "Mean Squared Error: 1.82666552555194\n",
      "\n"
     ]
    }
   ],
   "source": [
    "# train a GradientBoostingRegressor model\n",
    "\n",
    "gradient_model = GradientBoostingRegressor()  # instantiate the model\n",
    "\n",
    "# append a learning_rate parameter to the parameter dictionary\n",
    "params['learning_rate'] = [0.05,0.1,0.2,0.3,0.4,0.5]\n",
    "\n",
    "gradient_search = RandomizedSearchCV(gradient_model,params,cv=5,n_jobs=-1,\n",
    "                                  n_iter=50)   # initialize the search\n",
    "\n",
    "gradient_search.fit(X_train,y_train)   # fit the model\n",
    "\n",
    "gradient_pred = gradient_search.predict(X_test)  # make predictions with the model\n",
    "\n",
    "# print out the best parameters and score the model\n",
    "print('Best parameter found:\\n{}\\n'.format(gradient_search.best_params_))\n",
    "print('Train score: {}\\n'.format(gradient_search.score(X_train,y_train)))\n",
    "print('Test score: {}\\n'.format(gradient_search.score(X_test,y_test)))\n",
    "print('Overall model R2: {}\\n'.format(r2_score(y_test,gradient_pred)))\n",
    "print('Mean Squared Error: {}\\n'.format(np.sqrt(mean_squared_error(y_test,gradient_pred))))"
   ]
  },
  {
   "cell_type": "markdown",
   "id": "c04d399d",
   "metadata": {},
   "source": [
    "This is performing about as well as the trees!"
   ]
  },
  {
   "cell_type": "code",
   "execution_count": 62,
   "id": "0c12e7b2",
   "metadata": {},
   "outputs": [],
   "source": [
    "#save model score for comparison of models\n",
    "gbR2 = r2_score(y_test,gradient_pred)"
   ]
  },
  {
   "cell_type": "markdown",
   "id": "e2d728a8",
   "metadata": {},
   "source": [
    "# Compare scoring of all models under consideration"
   ]
  },
  {
   "cell_type": "code",
   "execution_count": 64,
   "id": "da230ac9",
   "metadata": {
    "scrolled": false
   },
   "outputs": [
    {
     "name": "stdout",
     "output_type": "stream",
     "text": [
      "Linear Regression score:  0.8085813264421107\n",
      "KNN score:  0.8696132136875967\n",
      "Decision Tree score:  0.9178792569811887\n",
      "Random Forest score:  0.9633052706154228\n",
      "Gradient Boosting score:  0.963120771276268\n"
     ]
    }
   ],
   "source": [
    "print(\"Linear Regression score: \", lrR2)\n",
    "print(\"KNN score: \", knnR2)\n",
    "print(\"Decision Tree score: \", dtR2)\n",
    "print(\"Random Forest score: \", rfR2)\n",
    "print(\"Gradient Boosting score: \", gbR2)"
   ]
  },
  {
   "cell_type": "markdown",
   "id": "a167cf61",
   "metadata": {},
   "source": [
    "# Conclusion"
   ]
  },
  {
   "cell_type": "markdown",
   "id": "b9df054f",
   "metadata": {},
   "source": [
    "The best model here is Random Forest, with Gradient Boosting close behind. All had remarkably good performance!"
   ]
  },
  {
   "cell_type": "markdown",
   "id": "237b3f8d",
   "metadata": {},
   "source": [
    "# Feature Importance for Random Forest Model"
   ]
  },
  {
   "cell_type": "markdown",
   "id": "4188e27b",
   "metadata": {},
   "source": [
    "Test feature importance using Random Forest model."
   ]
  },
  {
   "cell_type": "code",
   "execution_count": 112,
   "id": "ec876a88",
   "metadata": {},
   "outputs": [
    {
     "data": {
      "text/plain": [
       "array([1.24793451e-01, 4.81756745e-03, 8.81113338e-03, 3.47612572e-03,\n",
       "       2.83880371e-03, 3.05025170e-03, 1.80372568e-02, 1.25894611e-02,\n",
       "       5.39831009e-03, 6.34608487e-03, 4.50634513e-03, 5.95438315e-01,\n",
       "       3.04001945e-03, 4.30586001e-03, 6.33588890e-03, 1.66717758e-02,\n",
       "       1.66625888e-01, 1.25672665e-02, 1.63515788e-04, 1.86679463e-04])"
      ]
     },
     "execution_count": 112,
     "metadata": {},
     "output_type": "execute_result"
    }
   ],
   "source": [
    "forest.feature_importances_"
   ]
  },
  {
   "cell_type": "code",
   "execution_count": 113,
   "id": "c16f15ff",
   "metadata": {},
   "outputs": [
    {
     "data": {
      "text/plain": [
       "array(['Adult Mortality', 'infant deaths', 'Alcohol',\n",
       "       'Percentage_Expenditure', 'Hepatitis B', 'Measles', 'BMI',\n",
       "       'under-five deaths', 'Polio', 'Total_Expenditure', 'Diphtheria',\n",
       "       'HIV/AIDS', 'GDP', 'Population', 'thinness  1-19 years',\n",
       "       'thinness 5-9 years', 'Income_Composition_Resources', 'Schooling',\n",
       "       'Status_Developed', 'Status_Developing'], dtype=object)"
      ]
     },
     "execution_count": 113,
     "metadata": {},
     "output_type": "execute_result"
    }
   ],
   "source": [
    "forest.feature_names_in_"
   ]
  },
  {
   "cell_type": "code",
   "execution_count": 120,
   "id": "c427d2ae",
   "metadata": {},
   "outputs": [
    {
     "data": {
      "image/png": "[encoded data removed]",
      "text/plain": [
       "<Figure size 640x480 with 1 Axes>"
      ]
     },
     "metadata": {},
     "output_type": "display_data"
    }
   ],
   "source": [
    "# Creating importances_df dataframe\n",
    "importances_df = pd.DataFrame({\"feature_names\" : forest.feature_names_in_, \n",
    "                               \"importances\" : forest.feature_importances_})\n",
    "\n",
    "g = sns.barplot(data=importances_df, \n",
    "                x=\"importances\", \n",
    "                y=\"feature_names\")\n",
    "g.set(xlabel='Importance', ylabel='Feature Names')\n",
    "g.set_title(\"Random Forest Feature Importance\", fontsize=14)\n",
    "for value in g.containers:\n",
    "    g.bar_label(value)\n"
   ]
  },
  {
   "cell_type": "markdown",
   "id": "a8371f44",
   "metadata": {},
   "source": [
    "Super interesting - this doesn't actually correspond exactly with what I ascertained from the EDA step - save for the Income Composition of Resources feature, which I do see confirmed here as being of importance. I didn't see HIV/AIDS as being important - this may require revisiting the scale/measurement of the features. Nevertheless, the performance of the Random Forest model here was outstanding."
   ]
  },
  {
   "cell_type": "code",
   "execution_count": null,
   "id": "9ccb773a",
   "metadata": {},
   "outputs": [],
   "source": []
  }
 ],
 "metadata": {
  "kernelspec": {
   "display_name": "Python 3 (ipykernel)",
   "language": "python",
   "name": "python3"
  },
  "language_info": {
   "codemirror_mode": {
    "name": "ipython",
    "version": 3
   },
   "file_extension": ".py",
   "mimetype": "text/x-python",
   "name": "python",
   "nbconvert_exporter": "python",
   "pygments_lexer": "ipython3",
   "version": "3.9.13"
  }
 },
 "nbformat": 4,
 "nbformat_minor": 5
}
