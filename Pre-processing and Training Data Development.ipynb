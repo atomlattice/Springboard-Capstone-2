{
 "cells": [
  {
   "cell_type": "code",
   "execution_count": 1,
   "id": "f017ca20",
   "metadata": {},
   "outputs": [],
   "source": [
    "import pandas as pd\n",
    "import numpy as np\n",
    "import sklearn\n",
    "from sklearn.model_selection import train_test_split, cross_validate, GridSearchCV, learning_curve"
   ]
  },
  {
   "cell_type": "code",
   "execution_count": 2,
   "id": "f5e75fc5",
   "metadata": {
    "scrolled": false
   },
   "outputs": [
    {
     "data": {
      "text/html": [
       "<div>\n",
       "<style scoped>\n",
       "    .dataframe tbody tr th:only-of-type {\n",
       "        vertical-align: middle;\n",
       "    }\n",
       "\n",
       "    .dataframe tbody tr th {\n",
       "        vertical-align: top;\n",
       "    }\n",
       "\n",
       "    .dataframe thead th {\n",
       "        text-align: right;\n",
       "    }\n",
       "</style>\n",
       "<table border=\"1\" class=\"dataframe\">\n",
       "  <thead>\n",
       "    <tr style=\"text-align: right;\">\n",
       "      <th></th>\n",
       "      <th>0</th>\n",
       "      <th>1</th>\n",
       "      <th>2</th>\n",
       "      <th>3</th>\n",
       "      <th>4</th>\n",
       "    </tr>\n",
       "  </thead>\n",
       "  <tbody>\n",
       "    <tr>\n",
       "      <th>Country</th>\n",
       "      <td>Afghanistan</td>\n",
       "      <td>Afghanistan</td>\n",
       "      <td>Afghanistan</td>\n",
       "      <td>Afghanistan</td>\n",
       "      <td>Afghanistan</td>\n",
       "    </tr>\n",
       "    <tr>\n",
       "      <th>Year</th>\n",
       "      <td>2015</td>\n",
       "      <td>2014</td>\n",
       "      <td>2013</td>\n",
       "      <td>2012</td>\n",
       "      <td>2011</td>\n",
       "    </tr>\n",
       "    <tr>\n",
       "      <th>Status</th>\n",
       "      <td>Developing</td>\n",
       "      <td>Developing</td>\n",
       "      <td>Developing</td>\n",
       "      <td>Developing</td>\n",
       "      <td>Developing</td>\n",
       "    </tr>\n",
       "    <tr>\n",
       "      <th>Life_Expectancy</th>\n",
       "      <td>65.0</td>\n",
       "      <td>59.9</td>\n",
       "      <td>59.9</td>\n",
       "      <td>59.5</td>\n",
       "      <td>59.2</td>\n",
       "    </tr>\n",
       "    <tr>\n",
       "      <th>Adult Mortality</th>\n",
       "      <td>263.0</td>\n",
       "      <td>271.0</td>\n",
       "      <td>268.0</td>\n",
       "      <td>272.0</td>\n",
       "      <td>275.0</td>\n",
       "    </tr>\n",
       "    <tr>\n",
       "      <th>infant deaths</th>\n",
       "      <td>62</td>\n",
       "      <td>64</td>\n",
       "      <td>66</td>\n",
       "      <td>69</td>\n",
       "      <td>71</td>\n",
       "    </tr>\n",
       "    <tr>\n",
       "      <th>Alcohol</th>\n",
       "      <td>0.01</td>\n",
       "      <td>0.01</td>\n",
       "      <td>0.01</td>\n",
       "      <td>0.01</td>\n",
       "      <td>0.01</td>\n",
       "    </tr>\n",
       "    <tr>\n",
       "      <th>Percentage_Expenditure</th>\n",
       "      <td>71.279624</td>\n",
       "      <td>73.523582</td>\n",
       "      <td>73.219243</td>\n",
       "      <td>78.184215</td>\n",
       "      <td>7.097109</td>\n",
       "    </tr>\n",
       "    <tr>\n",
       "      <th>Hepatitis B</th>\n",
       "      <td>65.0</td>\n",
       "      <td>62.0</td>\n",
       "      <td>64.0</td>\n",
       "      <td>67.0</td>\n",
       "      <td>68.0</td>\n",
       "    </tr>\n",
       "    <tr>\n",
       "      <th>Measles</th>\n",
       "      <td>1154</td>\n",
       "      <td>492</td>\n",
       "      <td>430</td>\n",
       "      <td>2787</td>\n",
       "      <td>3013</td>\n",
       "    </tr>\n",
       "    <tr>\n",
       "      <th>BMI</th>\n",
       "      <td>19.1</td>\n",
       "      <td>18.6</td>\n",
       "      <td>18.1</td>\n",
       "      <td>17.6</td>\n",
       "      <td>17.2</td>\n",
       "    </tr>\n",
       "    <tr>\n",
       "      <th>under-five deaths</th>\n",
       "      <td>83</td>\n",
       "      <td>86</td>\n",
       "      <td>89</td>\n",
       "      <td>93</td>\n",
       "      <td>97</td>\n",
       "    </tr>\n",
       "    <tr>\n",
       "      <th>Polio</th>\n",
       "      <td>6.0</td>\n",
       "      <td>58.0</td>\n",
       "      <td>62.0</td>\n",
       "      <td>67.0</td>\n",
       "      <td>68.0</td>\n",
       "    </tr>\n",
       "    <tr>\n",
       "      <th>Total_Expenditure</th>\n",
       "      <td>8.16</td>\n",
       "      <td>8.18</td>\n",
       "      <td>8.13</td>\n",
       "      <td>8.52</td>\n",
       "      <td>7.87</td>\n",
       "    </tr>\n",
       "    <tr>\n",
       "      <th>Diphtheria</th>\n",
       "      <td>65.0</td>\n",
       "      <td>62.0</td>\n",
       "      <td>64.0</td>\n",
       "      <td>67.0</td>\n",
       "      <td>68.0</td>\n",
       "    </tr>\n",
       "    <tr>\n",
       "      <th>HIV/AIDS</th>\n",
       "      <td>0.1</td>\n",
       "      <td>0.1</td>\n",
       "      <td>0.1</td>\n",
       "      <td>0.1</td>\n",
       "      <td>0.1</td>\n",
       "    </tr>\n",
       "    <tr>\n",
       "      <th>GDP</th>\n",
       "      <td>584.25921</td>\n",
       "      <td>612.696514</td>\n",
       "      <td>631.744976</td>\n",
       "      <td>669.959</td>\n",
       "      <td>63.537231</td>\n",
       "    </tr>\n",
       "    <tr>\n",
       "      <th>Population</th>\n",
       "      <td>33736494.0</td>\n",
       "      <td>327582.0</td>\n",
       "      <td>31731688.0</td>\n",
       "      <td>3696958.0</td>\n",
       "      <td>2978599.0</td>\n",
       "    </tr>\n",
       "    <tr>\n",
       "      <th>thinness  1-19 years</th>\n",
       "      <td>17.2</td>\n",
       "      <td>17.5</td>\n",
       "      <td>17.7</td>\n",
       "      <td>17.9</td>\n",
       "      <td>18.2</td>\n",
       "    </tr>\n",
       "    <tr>\n",
       "      <th>thinness 5-9 years</th>\n",
       "      <td>17.3</td>\n",
       "      <td>17.5</td>\n",
       "      <td>17.7</td>\n",
       "      <td>18.0</td>\n",
       "      <td>18.2</td>\n",
       "    </tr>\n",
       "    <tr>\n",
       "      <th>Income_Composition_Resources</th>\n",
       "      <td>0.479</td>\n",
       "      <td>0.476</td>\n",
       "      <td>0.47</td>\n",
       "      <td>0.463</td>\n",
       "      <td>0.454</td>\n",
       "    </tr>\n",
       "    <tr>\n",
       "      <th>Schooling</th>\n",
       "      <td>10.1</td>\n",
       "      <td>10.0</td>\n",
       "      <td>9.9</td>\n",
       "      <td>9.8</td>\n",
       "      <td>9.5</td>\n",
       "    </tr>\n",
       "  </tbody>\n",
       "</table>\n",
       "</div>"
      ],
      "text/plain": [
       "                                        0            1            2  \\\n",
       "Country                       Afghanistan  Afghanistan  Afghanistan   \n",
       "Year                                 2015         2014         2013   \n",
       "Status                         Developing   Developing   Developing   \n",
       "Life_Expectancy                      65.0         59.9         59.9   \n",
       "Adult Mortality                     263.0        271.0        268.0   \n",
       "infant deaths                          62           64           66   \n",
       "Alcohol                              0.01         0.01         0.01   \n",
       "Percentage_Expenditure          71.279624    73.523582    73.219243   \n",
       "Hepatitis B                          65.0         62.0         64.0   \n",
       "Measles                              1154          492          430   \n",
       "BMI                                  19.1         18.6         18.1   \n",
       "under-five deaths                      83           86           89   \n",
       "Polio                                 6.0         58.0         62.0   \n",
       "Total_Expenditure                    8.16         8.18         8.13   \n",
       "Diphtheria                           65.0         62.0         64.0   \n",
       "HIV/AIDS                              0.1          0.1          0.1   \n",
       "GDP                             584.25921   612.696514   631.744976   \n",
       "Population                     33736494.0     327582.0   31731688.0   \n",
       "thinness  1-19 years                 17.2         17.5         17.7   \n",
       "thinness 5-9 years                   17.3         17.5         17.7   \n",
       "Income_Composition_Resources        0.479        0.476         0.47   \n",
       "Schooling                            10.1         10.0          9.9   \n",
       "\n",
       "                                        3            4  \n",
       "Country                       Afghanistan  Afghanistan  \n",
       "Year                                 2012         2011  \n",
       "Status                         Developing   Developing  \n",
       "Life_Expectancy                      59.5         59.2  \n",
       "Adult Mortality                     272.0        275.0  \n",
       "infant deaths                          69           71  \n",
       "Alcohol                              0.01         0.01  \n",
       "Percentage_Expenditure          78.184215     7.097109  \n",
       "Hepatitis B                          67.0         68.0  \n",
       "Measles                              2787         3013  \n",
       "BMI                                  17.6         17.2  \n",
       "under-five deaths                      93           97  \n",
       "Polio                                67.0         68.0  \n",
       "Total_Expenditure                    8.52         7.87  \n",
       "Diphtheria                           67.0         68.0  \n",
       "HIV/AIDS                              0.1          0.1  \n",
       "GDP                               669.959    63.537231  \n",
       "Population                      3696958.0    2978599.0  \n",
       "thinness  1-19 years                 17.9         18.2  \n",
       "thinness 5-9 years                   18.0         18.2  \n",
       "Income_Composition_Resources        0.463        0.454  \n",
       "Schooling                             9.8          9.5  "
      ]
     },
     "execution_count": 2,
     "metadata": {},
     "output_type": "execute_result"
    }
   ],
   "source": [
    "# Put this data into a variable  \n",
    "wrangled_WHO_data = pd.read_csv(r'C:\\Users\\moder\\Documents\\Springboard\\PROJECTS ASSIGNMENTS files and instructions\\Capstones\\Capstone 2\\wrangled_WHO_data.csv')\n",
    "\n",
    "wrangled_WHO_data.head().T"
   ]
  },
  {
   "cell_type": "code",
   "execution_count": 3,
   "id": "73d3c5b8",
   "metadata": {
    "scrolled": false
   },
   "outputs": [
    {
     "name": "stdout",
     "output_type": "stream",
     "text": [
      "<class 'pandas.core.frame.DataFrame'>\n",
      "RangeIndex: 2938 entries, 0 to 2937\n",
      "Data columns (total 22 columns):\n",
      " #   Column                        Non-Null Count  Dtype  \n",
      "---  ------                        --------------  -----  \n",
      " 0   Country                       2938 non-null   object \n",
      " 1   Year                          2938 non-null   int64  \n",
      " 2   Status                        2938 non-null   object \n",
      " 3   Life_Expectancy               2938 non-null   float64\n",
      " 4   Adult Mortality               2938 non-null   float64\n",
      " 5   infant deaths                 2938 non-null   int64  \n",
      " 6   Alcohol                       2938 non-null   float64\n",
      " 7   Percentage_Expenditure        2938 non-null   float64\n",
      " 8   Hepatitis B                   2938 non-null   float64\n",
      " 9   Measles                       2938 non-null   int64  \n",
      " 10  BMI                           2938 non-null   float64\n",
      " 11  under-five deaths             2938 non-null   int64  \n",
      " 12  Polio                         2938 non-null   float64\n",
      " 13  Total_Expenditure             2938 non-null   float64\n",
      " 14  Diphtheria                    2938 non-null   float64\n",
      " 15  HIV/AIDS                      2938 non-null   float64\n",
      " 16  GDP                           2938 non-null   float64\n",
      " 17  Population                    2938 non-null   float64\n",
      " 18  thinness  1-19 years          2938 non-null   float64\n",
      " 19  thinness 5-9 years            2938 non-null   float64\n",
      " 20  Income_Composition_Resources  2938 non-null   float64\n",
      " 21  Schooling                     2938 non-null   float64\n",
      "dtypes: float64(16), int64(4), object(2)\n",
      "memory usage: 505.1+ KB\n"
     ]
    }
   ],
   "source": [
    "#reminder - data types\n",
    "wrangled_WHO_data.info()"
   ]
  },
  {
   "cell_type": "code",
   "execution_count": 4,
   "id": "2d9a5944",
   "metadata": {},
   "outputs": [
    {
     "name": "stdout",
     "output_type": "stream",
     "text": [
      "<class 'pandas.core.frame.DataFrame'>\n",
      "RangeIndex: 2938 entries, 0 to 2937\n",
      "Data columns (total 22 columns):\n",
      " #   Column                        Non-Null Count  Dtype  \n",
      "---  ------                        --------------  -----  \n",
      " 0   Country                       2938 non-null   object \n",
      " 1   Year                          2938 non-null   int64  \n",
      " 2   Status                        2938 non-null   object \n",
      " 3   Life_Expectancy               2938 non-null   float64\n",
      " 4   Adult Mortality               2938 non-null   float64\n",
      " 5   infant deaths                 2938 non-null   int64  \n",
      " 6   Alcohol                       2938 non-null   float64\n",
      " 7   Percentage_Expenditure        2938 non-null   float64\n",
      " 8   Hepatitis B                   2938 non-null   float64\n",
      " 9   Measles                       2938 non-null   int64  \n",
      " 10  BMI                           2938 non-null   float64\n",
      " 11  under-five deaths             2938 non-null   int64  \n",
      " 12  Polio                         2938 non-null   float64\n",
      " 13  Total_Expenditure             2938 non-null   float64\n",
      " 14  Diphtheria                    2938 non-null   float64\n",
      " 15  HIV/AIDS                      2938 non-null   float64\n",
      " 16  GDP                           2938 non-null   float64\n",
      " 17  Population                    2938 non-null   float64\n",
      " 18  thinness  1-19 years          2938 non-null   float64\n",
      " 19  thinness 5-9 years            2938 non-null   float64\n",
      " 20  Income_Composition_Resources  2938 non-null   float64\n",
      " 21  Schooling                     2938 non-null   float64\n",
      "dtypes: float64(16), int64(4), object(2)\n",
      "memory usage: 505.1+ KB\n"
     ]
    }
   ],
   "source": [
    "wrangled_WHO_data.info()"
   ]
  },
  {
   "cell_type": "code",
   "execution_count": 5,
   "id": "cf000498",
   "metadata": {},
   "outputs": [],
   "source": [
    "#it's turning out that I need to just replace STATUS since there are only two values with 0 and 1 - I proceeded otherwise and it is producing some problems\n",
    "wrangled_WHO_data.Status.replace(['Developed', 'Developing'], [1, 0], inplace=True)"
   ]
  },
  {
   "cell_type": "code",
   "execution_count": 6,
   "id": "1bf1a11f",
   "metadata": {},
   "outputs": [
    {
     "data": {
      "text/html": [
       "<div>\n",
       "<style scoped>\n",
       "    .dataframe tbody tr th:only-of-type {\n",
       "        vertical-align: middle;\n",
       "    }\n",
       "\n",
       "    .dataframe tbody tr th {\n",
       "        vertical-align: top;\n",
       "    }\n",
       "\n",
       "    .dataframe thead th {\n",
       "        text-align: right;\n",
       "    }\n",
       "</style>\n",
       "<table border=\"1\" class=\"dataframe\">\n",
       "  <thead>\n",
       "    <tr style=\"text-align: right;\">\n",
       "      <th></th>\n",
       "      <th>0</th>\n",
       "      <th>1</th>\n",
       "      <th>2</th>\n",
       "      <th>3</th>\n",
       "      <th>4</th>\n",
       "    </tr>\n",
       "  </thead>\n",
       "  <tbody>\n",
       "    <tr>\n",
       "      <th>Country</th>\n",
       "      <td>Afghanistan</td>\n",
       "      <td>Afghanistan</td>\n",
       "      <td>Afghanistan</td>\n",
       "      <td>Afghanistan</td>\n",
       "      <td>Afghanistan</td>\n",
       "    </tr>\n",
       "    <tr>\n",
       "      <th>Year</th>\n",
       "      <td>2015</td>\n",
       "      <td>2014</td>\n",
       "      <td>2013</td>\n",
       "      <td>2012</td>\n",
       "      <td>2011</td>\n",
       "    </tr>\n",
       "    <tr>\n",
       "      <th>Status</th>\n",
       "      <td>0</td>\n",
       "      <td>0</td>\n",
       "      <td>0</td>\n",
       "      <td>0</td>\n",
       "      <td>0</td>\n",
       "    </tr>\n",
       "    <tr>\n",
       "      <th>Life_Expectancy</th>\n",
       "      <td>65.0</td>\n",
       "      <td>59.9</td>\n",
       "      <td>59.9</td>\n",
       "      <td>59.5</td>\n",
       "      <td>59.2</td>\n",
       "    </tr>\n",
       "    <tr>\n",
       "      <th>Adult Mortality</th>\n",
       "      <td>263.0</td>\n",
       "      <td>271.0</td>\n",
       "      <td>268.0</td>\n",
       "      <td>272.0</td>\n",
       "      <td>275.0</td>\n",
       "    </tr>\n",
       "    <tr>\n",
       "      <th>infant deaths</th>\n",
       "      <td>62</td>\n",
       "      <td>64</td>\n",
       "      <td>66</td>\n",
       "      <td>69</td>\n",
       "      <td>71</td>\n",
       "    </tr>\n",
       "    <tr>\n",
       "      <th>Alcohol</th>\n",
       "      <td>0.01</td>\n",
       "      <td>0.01</td>\n",
       "      <td>0.01</td>\n",
       "      <td>0.01</td>\n",
       "      <td>0.01</td>\n",
       "    </tr>\n",
       "    <tr>\n",
       "      <th>Percentage_Expenditure</th>\n",
       "      <td>71.279624</td>\n",
       "      <td>73.523582</td>\n",
       "      <td>73.219243</td>\n",
       "      <td>78.184215</td>\n",
       "      <td>7.097109</td>\n",
       "    </tr>\n",
       "    <tr>\n",
       "      <th>Hepatitis B</th>\n",
       "      <td>65.0</td>\n",
       "      <td>62.0</td>\n",
       "      <td>64.0</td>\n",
       "      <td>67.0</td>\n",
       "      <td>68.0</td>\n",
       "    </tr>\n",
       "    <tr>\n",
       "      <th>Measles</th>\n",
       "      <td>1154</td>\n",
       "      <td>492</td>\n",
       "      <td>430</td>\n",
       "      <td>2787</td>\n",
       "      <td>3013</td>\n",
       "    </tr>\n",
       "    <tr>\n",
       "      <th>BMI</th>\n",
       "      <td>19.1</td>\n",
       "      <td>18.6</td>\n",
       "      <td>18.1</td>\n",
       "      <td>17.6</td>\n",
       "      <td>17.2</td>\n",
       "    </tr>\n",
       "    <tr>\n",
       "      <th>under-five deaths</th>\n",
       "      <td>83</td>\n",
       "      <td>86</td>\n",
       "      <td>89</td>\n",
       "      <td>93</td>\n",
       "      <td>97</td>\n",
       "    </tr>\n",
       "    <tr>\n",
       "      <th>Polio</th>\n",
       "      <td>6.0</td>\n",
       "      <td>58.0</td>\n",
       "      <td>62.0</td>\n",
       "      <td>67.0</td>\n",
       "      <td>68.0</td>\n",
       "    </tr>\n",
       "    <tr>\n",
       "      <th>Total_Expenditure</th>\n",
       "      <td>8.16</td>\n",
       "      <td>8.18</td>\n",
       "      <td>8.13</td>\n",
       "      <td>8.52</td>\n",
       "      <td>7.87</td>\n",
       "    </tr>\n",
       "    <tr>\n",
       "      <th>Diphtheria</th>\n",
       "      <td>65.0</td>\n",
       "      <td>62.0</td>\n",
       "      <td>64.0</td>\n",
       "      <td>67.0</td>\n",
       "      <td>68.0</td>\n",
       "    </tr>\n",
       "    <tr>\n",
       "      <th>HIV/AIDS</th>\n",
       "      <td>0.1</td>\n",
       "      <td>0.1</td>\n",
       "      <td>0.1</td>\n",
       "      <td>0.1</td>\n",
       "      <td>0.1</td>\n",
       "    </tr>\n",
       "    <tr>\n",
       "      <th>GDP</th>\n",
       "      <td>584.25921</td>\n",
       "      <td>612.696514</td>\n",
       "      <td>631.744976</td>\n",
       "      <td>669.959</td>\n",
       "      <td>63.537231</td>\n",
       "    </tr>\n",
       "    <tr>\n",
       "      <th>Population</th>\n",
       "      <td>33736494.0</td>\n",
       "      <td>327582.0</td>\n",
       "      <td>31731688.0</td>\n",
       "      <td>3696958.0</td>\n",
       "      <td>2978599.0</td>\n",
       "    </tr>\n",
       "    <tr>\n",
       "      <th>thinness  1-19 years</th>\n",
       "      <td>17.2</td>\n",
       "      <td>17.5</td>\n",
       "      <td>17.7</td>\n",
       "      <td>17.9</td>\n",
       "      <td>18.2</td>\n",
       "    </tr>\n",
       "    <tr>\n",
       "      <th>thinness 5-9 years</th>\n",
       "      <td>17.3</td>\n",
       "      <td>17.5</td>\n",
       "      <td>17.7</td>\n",
       "      <td>18.0</td>\n",
       "      <td>18.2</td>\n",
       "    </tr>\n",
       "    <tr>\n",
       "      <th>Income_Composition_Resources</th>\n",
       "      <td>0.479</td>\n",
       "      <td>0.476</td>\n",
       "      <td>0.47</td>\n",
       "      <td>0.463</td>\n",
       "      <td>0.454</td>\n",
       "    </tr>\n",
       "    <tr>\n",
       "      <th>Schooling</th>\n",
       "      <td>10.1</td>\n",
       "      <td>10.0</td>\n",
       "      <td>9.9</td>\n",
       "      <td>9.8</td>\n",
       "      <td>9.5</td>\n",
       "    </tr>\n",
       "  </tbody>\n",
       "</table>\n",
       "</div>"
      ],
      "text/plain": [
       "                                        0            1            2  \\\n",
       "Country                       Afghanistan  Afghanistan  Afghanistan   \n",
       "Year                                 2015         2014         2013   \n",
       "Status                                  0            0            0   \n",
       "Life_Expectancy                      65.0         59.9         59.9   \n",
       "Adult Mortality                     263.0        271.0        268.0   \n",
       "infant deaths                          62           64           66   \n",
       "Alcohol                              0.01         0.01         0.01   \n",
       "Percentage_Expenditure          71.279624    73.523582    73.219243   \n",
       "Hepatitis B                          65.0         62.0         64.0   \n",
       "Measles                              1154          492          430   \n",
       "BMI                                  19.1         18.6         18.1   \n",
       "under-five deaths                      83           86           89   \n",
       "Polio                                 6.0         58.0         62.0   \n",
       "Total_Expenditure                    8.16         8.18         8.13   \n",
       "Diphtheria                           65.0         62.0         64.0   \n",
       "HIV/AIDS                              0.1          0.1          0.1   \n",
       "GDP                             584.25921   612.696514   631.744976   \n",
       "Population                     33736494.0     327582.0   31731688.0   \n",
       "thinness  1-19 years                 17.2         17.5         17.7   \n",
       "thinness 5-9 years                   17.3         17.5         17.7   \n",
       "Income_Composition_Resources        0.479        0.476         0.47   \n",
       "Schooling                            10.1         10.0          9.9   \n",
       "\n",
       "                                        3            4  \n",
       "Country                       Afghanistan  Afghanistan  \n",
       "Year                                 2012         2011  \n",
       "Status                                  0            0  \n",
       "Life_Expectancy                      59.5         59.2  \n",
       "Adult Mortality                     272.0        275.0  \n",
       "infant deaths                          69           71  \n",
       "Alcohol                              0.01         0.01  \n",
       "Percentage_Expenditure          78.184215     7.097109  \n",
       "Hepatitis B                          67.0         68.0  \n",
       "Measles                              2787         3013  \n",
       "BMI                                  17.6         17.2  \n",
       "under-five deaths                      93           97  \n",
       "Polio                                67.0         68.0  \n",
       "Total_Expenditure                    8.52         7.87  \n",
       "Diphtheria                           67.0         68.0  \n",
       "HIV/AIDS                              0.1          0.1  \n",
       "GDP                               669.959    63.537231  \n",
       "Population                      3696958.0    2978599.0  \n",
       "thinness  1-19 years                 17.9         18.2  \n",
       "thinness 5-9 years                   18.0         18.2  \n",
       "Income_Composition_Resources        0.463        0.454  \n",
       "Schooling                             9.8          9.5  "
      ]
     },
     "execution_count": 6,
     "metadata": {},
     "output_type": "execute_result"
    }
   ],
   "source": [
    "wrangled_WHO_data.head().T"
   ]
  },
  {
   "cell_type": "code",
   "execution_count": 7,
   "id": "76d1399f",
   "metadata": {},
   "outputs": [
    {
     "name": "stdout",
     "output_type": "stream",
     "text": [
      "<class 'pandas.core.frame.DataFrame'>\n",
      "RangeIndex: 2938 entries, 0 to 2937\n",
      "Data columns (total 22 columns):\n",
      " #   Column                        Non-Null Count  Dtype  \n",
      "---  ------                        --------------  -----  \n",
      " 0   Country                       2938 non-null   object \n",
      " 1   Year                          2938 non-null   int64  \n",
      " 2   Status                        2938 non-null   int64  \n",
      " 3   Life_Expectancy               2938 non-null   float64\n",
      " 4   Adult Mortality               2938 non-null   float64\n",
      " 5   infant deaths                 2938 non-null   int64  \n",
      " 6   Alcohol                       2938 non-null   float64\n",
      " 7   Percentage_Expenditure        2938 non-null   float64\n",
      " 8   Hepatitis B                   2938 non-null   float64\n",
      " 9   Measles                       2938 non-null   int64  \n",
      " 10  BMI                           2938 non-null   float64\n",
      " 11  under-five deaths             2938 non-null   int64  \n",
      " 12  Polio                         2938 non-null   float64\n",
      " 13  Total_Expenditure             2938 non-null   float64\n",
      " 14  Diphtheria                    2938 non-null   float64\n",
      " 15  HIV/AIDS                      2938 non-null   float64\n",
      " 16  GDP                           2938 non-null   float64\n",
      " 17  Population                    2938 non-null   float64\n",
      " 18  thinness  1-19 years          2938 non-null   float64\n",
      " 19  thinness 5-9 years            2938 non-null   float64\n",
      " 20  Income_Composition_Resources  2938 non-null   float64\n",
      " 21  Schooling                     2938 non-null   float64\n",
      "dtypes: float64(16), int64(5), object(1)\n",
      "memory usage: 505.1+ KB\n"
     ]
    }
   ],
   "source": [
    "wrangled_WHO_data.info()"
   ]
  },
  {
   "cell_type": "code",
   "execution_count": 8,
   "id": "15b31d62",
   "metadata": {},
   "outputs": [
    {
     "name": "stdout",
     "output_type": "stream",
     "text": [
      "X:  <class 'pandas.core.frame.DataFrame'> (2938, 21)\n"
     ]
    }
   ],
   "source": [
    "#Split data into testing and training datasets\n",
    "from sklearn.model_selection import train_test_split\n",
    "\n",
    "X = wrangled_WHO_data.drop(columns = ['Life_Expectancy'])\n",
    "print(\"X: \", type(X), X.shape)"
   ]
  },
  {
   "cell_type": "code",
   "execution_count": 9,
   "id": "a50f244b",
   "metadata": {
    "scrolled": false
   },
   "outputs": [
    {
     "name": "stdout",
     "output_type": "stream",
     "text": [
      "y:  <class 'pandas.core.series.Series'> (2938,)\n"
     ]
    }
   ],
   "source": [
    "y = wrangled_WHO_data['Life_Expectancy']\n",
    "print(\"y: \", type(y), y.shape)"
   ]
  },
  {
   "cell_type": "code",
   "execution_count": 10,
   "id": "4db9edf4",
   "metadata": {
    "scrolled": false
   },
   "outputs": [
    {
     "data": {
      "text/plain": [
       "['Country',\n",
       " 'Year',\n",
       " 'Status',\n",
       " 'Adult Mortality',\n",
       " 'infant deaths',\n",
       " 'Alcohol',\n",
       " 'Percentage_Expenditure',\n",
       " 'Hepatitis B',\n",
       " 'Measles',\n",
       " 'BMI',\n",
       " 'under-five deaths',\n",
       " 'Polio',\n",
       " 'Total_Expenditure',\n",
       " 'Diphtheria',\n",
       " 'HIV/AIDS',\n",
       " 'GDP',\n",
       " 'Population',\n",
       " 'thinness  1-19 years',\n",
       " 'thinness 5-9 years',\n",
       " 'Income_Composition_Resources',\n",
       " 'Schooling']"
      ]
     },
     "execution_count": 10,
     "metadata": {},
     "output_type": "execute_result"
    }
   ],
   "source": [
    "list(X.columns)"
   ]
  },
  {
   "cell_type": "code",
   "execution_count": 11,
   "id": "78d5a6f3",
   "metadata": {
    "scrolled": true
   },
   "outputs": [
    {
     "name": "stdout",
     "output_type": "stream",
     "text": [
      "Training split has  2056  rows\n",
      " and the corresponding labels have an equal number of values. (2056)\n",
      "Test split has  882  rows\n",
      " and the corresponding labels have an equal number of values. (882)\n"
     ]
    }
   ],
   "source": [
    "X_train, X_test, y_train, y_test = train_test_split(X, y, test_size=0.3, random_state=47)\n",
    "print('Training split has ', X_train.shape[0], ' rows\\n',\n",
    "      'and the corresponding labels have an equal number of values.', \n",
    "      '(' + str(len(y_train))+ ')')\n",
    "print('Test split has ', X_test.shape[0], ' rows\\n',\n",
    "      'and the corresponding labels have an equal number of values.', \n",
    "      '(' + str(len(y_test)) + ')')"
   ]
  },
  {
   "cell_type": "code",
   "execution_count": 12,
   "id": "f779e671",
   "metadata": {},
   "outputs": [
    {
     "data": {
      "text/plain": [
       "((2056, 20), (882, 20))"
      ]
     },
     "execution_count": 12,
     "metadata": {},
     "output_type": "execute_result"
    }
   ],
   "source": [
    "#Save the COUNTRY column from the train/test data into country_train and country_test\n",
    "#Then drop those columns from `X_train` and `X_test`. Use 'inplace=True'\n",
    "country_list = ['Country']\n",
    "country_train = X_train[country_list]\n",
    "country_test = X_test[country_list]\n",
    "X_train.drop(columns=country_list, inplace=True)\n",
    "X_test.drop(columns=country_list, inplace=True)\n",
    "X_train.shape, X_test.shape"
   ]
  },
  {
   "cell_type": "code",
   "execution_count": 13,
   "id": "baf1918a",
   "metadata": {},
   "outputs": [
    {
     "data": {
      "text/plain": [
       "array([[69.21330253]])"
      ]
     },
     "execution_count": 13,
     "metadata": {},
     "output_type": "execute_result"
    }
   ],
   "source": [
    "#Recalling the guided capstone, it had us consider the MEAN - how good the mean is as a predictor?\n",
    "\n",
    "#Fit the dummy regressor on the training data\n",
    "from sklearn.dummy import DummyRegressor\n",
    "\n",
    "dumb_reg = DummyRegressor(strategy='mean')\n",
    "dumb_reg.fit(X_train, y_train)\n",
    "dumb_reg.constant_"
   ]
  },
  {
   "cell_type": "code",
   "execution_count": 14,
   "id": "6cf325af",
   "metadata": {
    "scrolled": true
   },
   "outputs": [
    {
     "data": {
      "text/plain": [
       "array([69.21330253, 69.21330253, 69.21330253, 69.21330253, 69.21330253])"
      ]
     },
     "execution_count": 14,
     "metadata": {},
     "output_type": "execute_result"
    }
   ],
   "source": [
    "#check out some metrics - again referring back to guided capstone\n",
    "from sklearn.metrics import r2_score, mean_squared_error, mean_absolute_error\n",
    "\n",
    "#r^2\n",
    "y_tr_pred = dumb_reg.predict(X_train)\n",
    "y_tr_pred[:5]"
   ]
  },
  {
   "cell_type": "code",
   "execution_count": 15,
   "id": "9cc8037b",
   "metadata": {
    "scrolled": true
   },
   "outputs": [
    {
     "data": {
      "text/plain": [
       "0.0"
      ]
     },
     "execution_count": 15,
     "metadata": {},
     "output_type": "execute_result"
    }
   ],
   "source": [
    "#Calculate the R^2 - amount of variance\n",
    "def r_squared(y, ypred):\n",
    "    \"\"\"R-squared score.\n",
    "    \n",
    "    Calculate the R-squared, or coefficient of determination, of the input.\n",
    "    \n",
    "    Arguments:\n",
    "    y -- the observed values\n",
    "    ypred -- the predicted values\n",
    "    \"\"\"\n",
    "      \n",
    "    ybar = np.sum(y) / len(y) #yes, we could use np.mean(y)\n",
    "    sum_sq_tot = np.sum((y - ybar)**2) #total sum of squares error\n",
    "    sum_sq_res = np.sum((y - ypred)**2) #residual sum of squares error\n",
    "    R2 = 1.0 - sum_sq_res / sum_sq_tot\n",
    "    return R2\n",
    "\n",
    "r_squared(y_train, y_tr_pred)"
   ]
  },
  {
   "cell_type": "markdown",
   "id": "74a3e2de",
   "metadata": {},
   "source": [
    "If you use the average value as your prediction, you get an R^2 of zero on our training set. What if you use this \"model\" to predict unseen values from the test set? Remember, of course, that your \"model\" is trained on the training set; you still use the training set mean as your prediction.\n",
    "\n",
    "Make your predictions by creating an array of length the size of the test set with the single value of the (training) mean."
   ]
  },
  {
   "cell_type": "code",
   "execution_count": 16,
   "id": "f93809a2",
   "metadata": {},
   "outputs": [
    {
     "data": {
      "text/plain": [
       "69.21330252918287"
      ]
     },
     "execution_count": 16,
     "metadata": {},
     "output_type": "execute_result"
    }
   ],
   "source": [
    "#Calculate the mean of `y_train`\n",
    "train_mean = y_train.mean()\n",
    "train_mean"
   ]
  },
  {
   "cell_type": "code",
   "execution_count": 17,
   "id": "0aebf19d",
   "metadata": {
    "scrolled": false
   },
   "outputs": [
    {
     "data": {
      "text/plain": [
       "-2.966948822180626e-07"
      ]
     },
     "execution_count": 17,
     "metadata": {},
     "output_type": "execute_result"
    }
   ],
   "source": [
    "y_te_pred = train_mean * np.ones(len(y_test))\n",
    "r_squared(y_test, y_te_pred)"
   ]
  },
  {
   "cell_type": "code",
   "execution_count": 18,
   "id": "f1fadd91",
   "metadata": {
    "scrolled": true
   },
   "outputs": [
    {
     "data": {
      "text/plain": [
       "(0.0, -2.966948822180626e-07)"
      ]
     },
     "execution_count": 18,
     "metadata": {},
     "output_type": "execute_result"
    }
   ],
   "source": [
    "#use sklearn to compare\n",
    "r2_score(y_train, y_tr_pred), r2_score(y_test, y_te_pred)"
   ]
  },
  {
   "cell_type": "markdown",
   "id": "d484d95e",
   "metadata": {},
   "source": [
    "OK this fits the data really poorly!"
   ]
  },
  {
   "cell_type": "code",
   "execution_count": 19,
   "id": "eb2defcf",
   "metadata": {},
   "outputs": [],
   "source": [
    "#now mean absolute error\n",
    "#Calculate the MAE\n",
    "def mae(y, ypred):\n",
    "    \"\"\"Mean absolute error.\n",
    "    \n",
    "    Calculate the mean absolute error of the arguments\n",
    "\n",
    "    Arguments:\n",
    "    y -- the observed values\n",
    "    ypred -- the predicted values\n",
    "    \"\"\"\n",
    "    abs_error = np.abs(y - ypred)\n",
    "    mae = np.mean(abs_error)\n",
    "    return mae"
   ]
  },
  {
   "cell_type": "code",
   "execution_count": 20,
   "id": "21b43b06",
   "metadata": {
    "scrolled": true
   },
   "outputs": [
    {
     "data": {
      "text/plain": [
       "7.742473840444215"
      ]
     },
     "execution_count": 20,
     "metadata": {},
     "output_type": "execute_result"
    }
   ],
   "source": [
    "mae(y_train, y_tr_pred)"
   ]
  },
  {
   "cell_type": "code",
   "execution_count": 21,
   "id": "8a79031b",
   "metadata": {
    "scrolled": false
   },
   "outputs": [
    {
     "data": {
      "text/plain": [
       "7.863213855581136"
      ]
     },
     "execution_count": 21,
     "metadata": {},
     "output_type": "execute_result"
    }
   ],
   "source": [
    "mae(y_test, y_te_pred)"
   ]
  },
  {
   "cell_type": "code",
   "execution_count": 22,
   "id": "2c230396",
   "metadata": {},
   "outputs": [
    {
     "data": {
      "text/plain": [
       "(7.742473840444217, 7.8632138555811455)"
      ]
     },
     "execution_count": 22,
     "metadata": {},
     "output_type": "execute_result"
    }
   ],
   "source": [
    "#use sklearn\n",
    "mean_absolute_error(y_train, y_tr_pred), mean_absolute_error(y_test, y_te_pred)"
   ]
  },
  {
   "cell_type": "markdown",
   "id": "61b8bc96",
   "metadata": {},
   "source": [
    "SO this is saying that this essentially says, on average, we'd be off by around 8 (eight) years (of life expectancy) if we guessed based on an average of known values."
   ]
  },
  {
   "cell_type": "code",
   "execution_count": 23,
   "id": "b2fba251",
   "metadata": {},
   "outputs": [],
   "source": [
    "#mean squared error\n",
    "#Calculate the MSE - the average squared difference between the estimated values and true value\n",
    "def mse(y, ypred):\n",
    "    \"\"\"Mean square error.\n",
    "    \n",
    "    Calculate the mean square error of the arguments\n",
    "\n",
    "    Arguments:\n",
    "    y -- the observed values\n",
    "    ypred -- the predicted values\n",
    "    \"\"\"\n",
    "    sq_error = (y - ypred)**2\n",
    "    mse = np.mean(sq_error)\n",
    "    return mse"
   ]
  },
  {
   "cell_type": "code",
   "execution_count": 24,
   "id": "0d1d917c",
   "metadata": {
    "scrolled": true
   },
   "outputs": [
    {
     "data": {
      "text/plain": [
       "89.59288602909847"
      ]
     },
     "execution_count": 24,
     "metadata": {},
     "output_type": "execute_result"
    }
   ],
   "source": [
    "mse(y_train, y_tr_pred)"
   ]
  },
  {
   "cell_type": "code",
   "execution_count": 25,
   "id": "ed7d3251",
   "metadata": {
    "scrolled": true
   },
   "outputs": [
    {
     "data": {
      "text/plain": [
       "92.36437481135957"
      ]
     },
     "execution_count": 25,
     "metadata": {},
     "output_type": "execute_result"
    }
   ],
   "source": [
    "mse(y_test, y_te_pred)"
   ]
  },
  {
   "cell_type": "code",
   "execution_count": 26,
   "id": "f80af760",
   "metadata": {},
   "outputs": [
    {
     "data": {
      "text/plain": [
       "(89.59288602909866, 92.36437481135945)"
      ]
     },
     "execution_count": 26,
     "metadata": {},
     "output_type": "execute_result"
    }
   ],
   "source": [
    "#try sklearn\n",
    "mean_squared_error(y_train, y_tr_pred), mean_squared_error(y_test, y_te_pred)"
   ]
  },
  {
   "cell_type": "code",
   "execution_count": 27,
   "id": "8b5378bc",
   "metadata": {
    "scrolled": false
   },
   "outputs": [
    {
     "data": {
      "text/plain": [
       "array([9.46535187, 9.61063863])"
      ]
     },
     "execution_count": 27,
     "metadata": {},
     "output_type": "execute_result"
    }
   ],
   "source": [
    "np.sqrt([mse(y_train, y_tr_pred), mse(y_test, y_te_pred)])"
   ]
  },
  {
   "cell_type": "markdown",
   "id": "6aa39213",
   "metadata": {},
   "source": [
    "Error on both train and test about 9-10 (life expectancy years)."
   ]
  },
  {
   "cell_type": "code",
   "execution_count": 28,
   "id": "183b6a0e",
   "metadata": {},
   "outputs": [],
   "source": [
    "#Standardize the magnitude of numeric features using a scaler\n",
    "from sklearn.preprocessing import StandardScaler\n",
    "\n",
    "# define standard scaler\n",
    "scaler = StandardScaler()\n",
    "\n",
    "# transform data\n",
    "#Call the StandardScaler`s fit method on `X_tr` to fit the scaler\n",
    "#then use it's `transform()` method to apply the scaling to both the train and test split\n",
    "scaler.fit(X_train)\n",
    "X_tr_scaled = scaler.transform(X_train)\n",
    "X_te_scaled = scaler.transform(X_test)"
   ]
  }
 ],
 "metadata": {
  "kernelspec": {
   "display_name": "Python 3 (ipykernel)",
   "language": "python",
   "name": "python3"
  },
  "language_info": {
   "codemirror_mode": {
    "name": "ipython",
    "version": 3
   },
   "file_extension": ".py",
   "mimetype": "text/x-python",
   "name": "python",
   "nbconvert_exporter": "python",
   "pygments_lexer": "ipython3",
   "version": "3.9.13"
  }
 },
 "nbformat": 4,
 "nbformat_minor": 5
}
